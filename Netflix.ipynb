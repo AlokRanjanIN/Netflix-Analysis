{
 "cells": [
  {
   "cell_type": "markdown",
   "id": "71c19ec1-4d8e-4a76-a313-a44c8c3cece3",
   "metadata": {},
   "source": [
    "## Import libraries"
   ]
  },
  {
   "cell_type": "code",
   "execution_count": 1,
   "id": "6eed6541-8ba2-4d0c-9b1e-2a3d2898327b",
   "metadata": {},
   "outputs": [],
   "source": [
    "import pandas as pd\n",
    "import seaborn as sns"
   ]
  },
  {
   "cell_type": "markdown",
   "id": "cb5a4977-5d9f-4de6-b097-efb8d82e4c02",
   "metadata": {
    "tags": []
   },
   "source": [
    "## Import Datasets"
   ]
  },
  {
   "cell_type": "code",
   "execution_count": 2,
   "id": "93bd062e-c5dd-4956-830f-bd0c8ca39b94",
   "metadata": {},
   "outputs": [
    {
     "data": {
      "text/html": [
       "<div>\n",
       "<style scoped>\n",
       "    .dataframe tbody tr th:only-of-type {\n",
       "        vertical-align: middle;\n",
       "    }\n",
       "\n",
       "    .dataframe tbody tr th {\n",
       "        vertical-align: top;\n",
       "    }\n",
       "\n",
       "    .dataframe thead th {\n",
       "        text-align: right;\n",
       "    }\n",
       "</style>\n",
       "<table border=\"1\" class=\"dataframe\">\n",
       "  <thead>\n",
       "    <tr style=\"text-align: right;\">\n",
       "      <th></th>\n",
       "      <th>show_id</th>\n",
       "      <th>type</th>\n",
       "      <th>title</th>\n",
       "      <th>director</th>\n",
       "      <th>cast</th>\n",
       "      <th>country</th>\n",
       "      <th>date_added</th>\n",
       "      <th>release_year</th>\n",
       "      <th>rating</th>\n",
       "      <th>duration</th>\n",
       "      <th>listed_in</th>\n",
       "      <th>description</th>\n",
       "    </tr>\n",
       "  </thead>\n",
       "  <tbody>\n",
       "    <tr>\n",
       "      <th>0</th>\n",
       "      <td>s1</td>\n",
       "      <td>TV Show</td>\n",
       "      <td>3%</td>\n",
       "      <td>NaN</td>\n",
       "      <td>João Miguel, Bianca Comparato, Michel Gomes, R...</td>\n",
       "      <td>Brazil</td>\n",
       "      <td>August 14, 2020</td>\n",
       "      <td>2020</td>\n",
       "      <td>TV-MA</td>\n",
       "      <td>4 Seasons</td>\n",
       "      <td>International TV Shows, TV Dramas, TV Sci-Fi &amp;...</td>\n",
       "      <td>In a future where the elite inhabit an island ...</td>\n",
       "    </tr>\n",
       "    <tr>\n",
       "      <th>1</th>\n",
       "      <td>s2</td>\n",
       "      <td>Movie</td>\n",
       "      <td>7:19</td>\n",
       "      <td>Jorge Michel Grau</td>\n",
       "      <td>Demián Bichir, Héctor Bonilla, Oscar Serrano, ...</td>\n",
       "      <td>Mexico</td>\n",
       "      <td>December 23, 2016</td>\n",
       "      <td>2016</td>\n",
       "      <td>TV-MA</td>\n",
       "      <td>93 min</td>\n",
       "      <td>Dramas, International Movies</td>\n",
       "      <td>After a devastating earthquake hits Mexico Cit...</td>\n",
       "    </tr>\n",
       "    <tr>\n",
       "      <th>2</th>\n",
       "      <td>s3</td>\n",
       "      <td>Movie</td>\n",
       "      <td>23:59</td>\n",
       "      <td>Gilbert Chan</td>\n",
       "      <td>Tedd Chan, Stella Chung, Henley Hii, Lawrence ...</td>\n",
       "      <td>Singapore</td>\n",
       "      <td>December 20, 2018</td>\n",
       "      <td>2011</td>\n",
       "      <td>R</td>\n",
       "      <td>78 min</td>\n",
       "      <td>Horror Movies, International Movies</td>\n",
       "      <td>When an army recruit is found dead, his fellow...</td>\n",
       "    </tr>\n",
       "    <tr>\n",
       "      <th>3</th>\n",
       "      <td>s4</td>\n",
       "      <td>Movie</td>\n",
       "      <td>9</td>\n",
       "      <td>Shane Acker</td>\n",
       "      <td>Elijah Wood, John C. Reilly, Jennifer Connelly...</td>\n",
       "      <td>United States</td>\n",
       "      <td>November 16, 2017</td>\n",
       "      <td>2009</td>\n",
       "      <td>PG-13</td>\n",
       "      <td>80 min</td>\n",
       "      <td>Action &amp; Adventure, Independent Movies, Sci-Fi...</td>\n",
       "      <td>In a postapocalyptic world, rag-doll robots hi...</td>\n",
       "    </tr>\n",
       "    <tr>\n",
       "      <th>4</th>\n",
       "      <td>s5</td>\n",
       "      <td>Movie</td>\n",
       "      <td>21</td>\n",
       "      <td>Robert Luketic</td>\n",
       "      <td>Jim Sturgess, Kevin Spacey, Kate Bosworth, Aar...</td>\n",
       "      <td>United States</td>\n",
       "      <td>January 1, 2020</td>\n",
       "      <td>2008</td>\n",
       "      <td>PG-13</td>\n",
       "      <td>123 min</td>\n",
       "      <td>Dramas</td>\n",
       "      <td>A brilliant group of students become card-coun...</td>\n",
       "    </tr>\n",
       "  </tbody>\n",
       "</table>\n",
       "</div>"
      ],
      "text/plain": [
       "  show_id     type  title           director  \\\n",
       "0      s1  TV Show     3%                NaN   \n",
       "1      s2    Movie   7:19  Jorge Michel Grau   \n",
       "2      s3    Movie  23:59       Gilbert Chan   \n",
       "3      s4    Movie      9        Shane Acker   \n",
       "4      s5    Movie     21     Robert Luketic   \n",
       "\n",
       "                                                cast        country  \\\n",
       "0  João Miguel, Bianca Comparato, Michel Gomes, R...         Brazil   \n",
       "1  Demián Bichir, Héctor Bonilla, Oscar Serrano, ...         Mexico   \n",
       "2  Tedd Chan, Stella Chung, Henley Hii, Lawrence ...      Singapore   \n",
       "3  Elijah Wood, John C. Reilly, Jennifer Connelly...  United States   \n",
       "4  Jim Sturgess, Kevin Spacey, Kate Bosworth, Aar...  United States   \n",
       "\n",
       "          date_added  release_year rating   duration  \\\n",
       "0    August 14, 2020          2020  TV-MA  4 Seasons   \n",
       "1  December 23, 2016          2016  TV-MA     93 min   \n",
       "2  December 20, 2018          2011      R     78 min   \n",
       "3  November 16, 2017          2009  PG-13     80 min   \n",
       "4    January 1, 2020          2008  PG-13    123 min   \n",
       "\n",
       "                                           listed_in  \\\n",
       "0  International TV Shows, TV Dramas, TV Sci-Fi &...   \n",
       "1                       Dramas, International Movies   \n",
       "2                Horror Movies, International Movies   \n",
       "3  Action & Adventure, Independent Movies, Sci-Fi...   \n",
       "4                                             Dramas   \n",
       "\n",
       "                                         description  \n",
       "0  In a future where the elite inhabit an island ...  \n",
       "1  After a devastating earthquake hits Mexico Cit...  \n",
       "2  When an army recruit is found dead, his fellow...  \n",
       "3  In a postapocalyptic world, rag-doll robots hi...  \n",
       "4  A brilliant group of students become card-coun...  "
      ]
     },
     "execution_count": 2,
     "metadata": {},
     "output_type": "execute_result"
    }
   ],
   "source": [
    "df=pd.read_csv(\"netflix.csv\")\n",
    "\n",
    "df.head()"
   ]
  },
  {
   "cell_type": "code",
   "execution_count": 3,
   "id": "6055655e-0be0-488e-95b1-1a54e9be2439",
   "metadata": {},
   "outputs": [
    {
     "name": "stdout",
     "output_type": "stream",
     "text": [
      "Shape: (7787, 12)\n",
      "Size: 93444\n"
     ]
    }
   ],
   "source": [
    "# Shape and Size of the dataset\n",
    "\n",
    "print(f'Shape: {df.shape}')\n",
    "print(f'Size: {df.size}')"
   ]
  },
  {
   "cell_type": "code",
   "execution_count": 4,
   "id": "96895275-5373-4485-9c73-112b4194a87a",
   "metadata": {},
   "outputs": [
    {
     "data": {
      "text/plain": [
       "show_id         object\n",
       "type            object\n",
       "title           object\n",
       "director        object\n",
       "cast            object\n",
       "country         object\n",
       "date_added      object\n",
       "release_year     int64\n",
       "rating          object\n",
       "duration        object\n",
       "listed_in       object\n",
       "description     object\n",
       "dtype: object"
      ]
     },
     "execution_count": 4,
     "metadata": {},
     "output_type": "execute_result"
    }
   ],
   "source": [
    "# Data types of each column\n",
    "df.dtypes"
   ]
  },
  {
   "cell_type": "code",
   "execution_count": 5,
   "id": "25ab65ea-a033-406b-967a-abfe4e83256e",
   "metadata": {},
   "outputs": [
    {
     "name": "stdout",
     "output_type": "stream",
     "text": [
      "<class 'pandas.core.frame.DataFrame'>\n",
      "RangeIndex: 7787 entries, 0 to 7786\n",
      "Data columns (total 12 columns):\n",
      " #   Column        Non-Null Count  Dtype \n",
      "---  ------        --------------  ----- \n",
      " 0   show_id       7787 non-null   object\n",
      " 1   type          7787 non-null   object\n",
      " 2   title         7787 non-null   object\n",
      " 3   director      5398 non-null   object\n",
      " 4   cast          7069 non-null   object\n",
      " 5   country       7280 non-null   object\n",
      " 6   date_added    7777 non-null   object\n",
      " 7   release_year  7787 non-null   int64 \n",
      " 8   rating        7780 non-null   object\n",
      " 9   duration      7787 non-null   object\n",
      " 10  listed_in     7787 non-null   object\n",
      " 11  description   7787 non-null   object\n",
      "dtypes: int64(1), object(11)\n",
      "memory usage: 730.2+ KB\n"
     ]
    }
   ],
   "source": [
    "# Information about the dataset\n",
    "df.info()"
   ]
  },
  {
   "cell_type": "code",
   "execution_count": 6,
   "id": "7992d5ef-4703-4ad2-8a83-bcfb53484e23",
   "metadata": {},
   "outputs": [
    {
     "data": {
      "text/plain": [
       "Index(['show_id', 'type', 'title', 'director', 'cast', 'country', 'date_added',\n",
       "       'release_year', 'rating', 'duration', 'listed_in', 'description'],\n",
       "      dtype='object')"
      ]
     },
     "execution_count": 6,
     "metadata": {},
     "output_type": "execute_result"
    }
   ],
   "source": [
    "# Column names\n",
    "df.columns"
   ]
  },
  {
   "cell_type": "code",
   "execution_count": 7,
   "id": "4df0c747-f053-4d4b-9e94-5a0f505ae016",
   "metadata": {},
   "outputs": [],
   "source": [
    "# Drop 'release_year' column\n",
    "df.drop('release_year',axis=1,inplace=True)\n",
    "\n",
    "# Rename columns for better readability\n",
    "df.columns=['ShowID','Category','Title','Director','Cast','Country','Release_Date','Rating','Duration','Type','Description']"
   ]
  },
  {
   "cell_type": "code",
   "execution_count": 8,
   "id": "e7eeb049-4641-403e-879f-869ddc5a8815",
   "metadata": {},
   "outputs": [
    {
     "data": {
      "text/html": [
       "<div>\n",
       "<style scoped>\n",
       "    .dataframe tbody tr th:only-of-type {\n",
       "        vertical-align: middle;\n",
       "    }\n",
       "\n",
       "    .dataframe tbody tr th {\n",
       "        vertical-align: top;\n",
       "    }\n",
       "\n",
       "    .dataframe thead th {\n",
       "        text-align: right;\n",
       "    }\n",
       "</style>\n",
       "<table border=\"1\" class=\"dataframe\">\n",
       "  <thead>\n",
       "    <tr style=\"text-align: right;\">\n",
       "      <th></th>\n",
       "      <th>ShowID</th>\n",
       "      <th>Category</th>\n",
       "      <th>Title</th>\n",
       "      <th>Director</th>\n",
       "      <th>Cast</th>\n",
       "      <th>Country</th>\n",
       "      <th>Release_Date</th>\n",
       "      <th>Rating</th>\n",
       "      <th>Duration</th>\n",
       "      <th>Type</th>\n",
       "      <th>Description</th>\n",
       "    </tr>\n",
       "  </thead>\n",
       "  <tbody>\n",
       "    <tr>\n",
       "      <th>0</th>\n",
       "      <td>s1</td>\n",
       "      <td>TV Show</td>\n",
       "      <td>3%</td>\n",
       "      <td>NaN</td>\n",
       "      <td>João Miguel, Bianca Comparato, Michel Gomes, R...</td>\n",
       "      <td>Brazil</td>\n",
       "      <td>August 14, 2020</td>\n",
       "      <td>TV-MA</td>\n",
       "      <td>4 Seasons</td>\n",
       "      <td>International TV Shows, TV Dramas, TV Sci-Fi &amp;...</td>\n",
       "      <td>In a future where the elite inhabit an island ...</td>\n",
       "    </tr>\n",
       "  </tbody>\n",
       "</table>\n",
       "</div>"
      ],
      "text/plain": [
       "  ShowID Category Title Director  \\\n",
       "0     s1  TV Show    3%      NaN   \n",
       "\n",
       "                                                Cast Country     Release_Date  \\\n",
       "0  João Miguel, Bianca Comparato, Michel Gomes, R...  Brazil  August 14, 2020   \n",
       "\n",
       "  Rating   Duration                                               Type  \\\n",
       "0  TV-MA  4 Seasons  International TV Shows, TV Dramas, TV Sci-Fi &...   \n",
       "\n",
       "                                         Description  \n",
       "0  In a future where the elite inhabit an island ...  "
      ]
     },
     "execution_count": 8,
     "metadata": {},
     "output_type": "execute_result"
    }
   ],
   "source": [
    "df.head(1)"
   ]
  },
  {
   "cell_type": "markdown",
   "id": "5ad9f398-8aaa-4c97-b728-e45d2543c5ae",
   "metadata": {
    "tags": []
   },
   "source": [
    "## Check Duplicate Record"
   ]
  },
  {
   "cell_type": "code",
   "execution_count": 9,
   "id": "db468693-1aca-497b-b21f-4d4273b99a6f",
   "metadata": {},
   "outputs": [
    {
     "data": {
      "text/html": [
       "<div>\n",
       "<style scoped>\n",
       "    .dataframe tbody tr th:only-of-type {\n",
       "        vertical-align: middle;\n",
       "    }\n",
       "\n",
       "    .dataframe tbody tr th {\n",
       "        vertical-align: top;\n",
       "    }\n",
       "\n",
       "    .dataframe thead th {\n",
       "        text-align: right;\n",
       "    }\n",
       "</style>\n",
       "<table border=\"1\" class=\"dataframe\">\n",
       "  <thead>\n",
       "    <tr style=\"text-align: right;\">\n",
       "      <th></th>\n",
       "      <th>ShowID</th>\n",
       "      <th>Category</th>\n",
       "      <th>Title</th>\n",
       "      <th>Director</th>\n",
       "      <th>Cast</th>\n",
       "      <th>Country</th>\n",
       "      <th>Release_Date</th>\n",
       "      <th>Rating</th>\n",
       "      <th>Duration</th>\n",
       "      <th>Type</th>\n",
       "      <th>Description</th>\n",
       "    </tr>\n",
       "  </thead>\n",
       "  <tbody>\n",
       "  </tbody>\n",
       "</table>\n",
       "</div>"
      ],
      "text/plain": [
       "Empty DataFrame\n",
       "Columns: [ShowID, Category, Title, Director, Cast, Country, Release_Date, Rating, Duration, Type, Description]\n",
       "Index: []"
      ]
     },
     "execution_count": 9,
     "metadata": {},
     "output_type": "execute_result"
    }
   ],
   "source": [
    "df[df.duplicated()]"
   ]
  },
  {
   "cell_type": "markdown",
   "id": "fa914897-f664-449e-9815-4820972d7b5c",
   "metadata": {
    "tags": []
   },
   "source": [
    "## Drop Duplicate Records"
   ]
  },
  {
   "cell_type": "code",
   "execution_count": 10,
   "id": "4bb08166-dc60-49b8-b501-11df45d12929",
   "metadata": {},
   "outputs": [],
   "source": [
    "df.drop_duplicates(inplace=True)"
   ]
  },
  {
   "cell_type": "markdown",
   "id": "e33e9731-4091-4503-9cd3-afd1ff8c2aa8",
   "metadata": {
    "tags": []
   },
   "source": [
    "## Check null values"
   ]
  },
  {
   "cell_type": "code",
   "execution_count": 11,
   "id": "89cbc2dc-fb0f-4698-ad01-8d1c8135eb63",
   "metadata": {},
   "outputs": [
    {
     "data": {
      "text/plain": [
       "ShowID             0\n",
       "Category           0\n",
       "Title              0\n",
       "Director        2389\n",
       "Cast             718\n",
       "Country          507\n",
       "Release_Date      10\n",
       "Rating             7\n",
       "Duration           0\n",
       "Type               0\n",
       "Description        0\n",
       "dtype: int64"
      ]
     },
     "execution_count": 11,
     "metadata": {},
     "output_type": "execute_result"
    }
   ],
   "source": [
    "df.isnull().sum()"
   ]
  },
  {
   "cell_type": "code",
   "execution_count": 12,
   "id": "4fed0d48-aec8-43d2-9176-e05c534148e8",
   "metadata": {},
   "outputs": [
    {
     "data": {
      "text/plain": [
       "<Axes: >"
      ]
     },
     "execution_count": 12,
     "metadata": {},
     "output_type": "execute_result"
    },
    {
     "data": {
      "image/png": "[encoded data removed]",
      "text/plain": [
       "<Figure size 640x480 with 2 Axes>"
      ]
     },
     "metadata": {},
     "output_type": "display_data"
    }
   ],
   "source": [
    "# Heatmap to visualize null values\n",
    "sns.heatmap(df.isnull())"
   ]
  },
  {
   "cell_type": "markdown",
   "id": "c6de8411-8915-49d5-b479-238b2795d531",
   "metadata": {
    "tags": []
   },
   "source": [
    "## 1) For 'House of Cards', what is the Show Id and Who is the Director of this show ?"
   ]
  },
  {
   "cell_type": "code",
   "execution_count": 13,
   "id": "5f3b6ee6-796a-44ff-8148-8c9e33bd2978",
   "metadata": {},
   "outputs": [
    {
     "data": {
      "text/html": [
       "<div>\n",
       "<style scoped>\n",
       "    .dataframe tbody tr th:only-of-type {\n",
       "        vertical-align: middle;\n",
       "    }\n",
       "\n",
       "    .dataframe tbody tr th {\n",
       "        vertical-align: top;\n",
       "    }\n",
       "\n",
       "    .dataframe thead th {\n",
       "        text-align: right;\n",
       "    }\n",
       "</style>\n",
       "<table border=\"1\" class=\"dataframe\">\n",
       "  <thead>\n",
       "    <tr style=\"text-align: right;\">\n",
       "      <th></th>\n",
       "      <th>ShowID</th>\n",
       "      <th>Category</th>\n",
       "      <th>Title</th>\n",
       "      <th>Director</th>\n",
       "      <th>Cast</th>\n",
       "      <th>Country</th>\n",
       "      <th>Release_Date</th>\n",
       "      <th>Rating</th>\n",
       "      <th>Duration</th>\n",
       "      <th>Type</th>\n",
       "      <th>Description</th>\n",
       "    </tr>\n",
       "  </thead>\n",
       "  <tbody>\n",
       "    <tr>\n",
       "      <th>0</th>\n",
       "      <td>s1</td>\n",
       "      <td>TV Show</td>\n",
       "      <td>3%</td>\n",
       "      <td>NaN</td>\n",
       "      <td>João Miguel, Bianca Comparato, Michel Gomes, R...</td>\n",
       "      <td>Brazil</td>\n",
       "      <td>August 14, 2020</td>\n",
       "      <td>TV-MA</td>\n",
       "      <td>4 Seasons</td>\n",
       "      <td>International TV Shows, TV Dramas, TV Sci-Fi &amp;...</td>\n",
       "      <td>In a future where the elite inhabit an island ...</td>\n",
       "    </tr>\n",
       "  </tbody>\n",
       "</table>\n",
       "</div>"
      ],
      "text/plain": [
       "  ShowID Category Title Director  \\\n",
       "0     s1  TV Show    3%      NaN   \n",
       "\n",
       "                                                Cast Country     Release_Date  \\\n",
       "0  João Miguel, Bianca Comparato, Michel Gomes, R...  Brazil  August 14, 2020   \n",
       "\n",
       "  Rating   Duration                                               Type  \\\n",
       "0  TV-MA  4 Seasons  International TV Shows, TV Dramas, TV Sci-Fi &...   \n",
       "\n",
       "                                         Description  \n",
       "0  In a future where the elite inhabit an island ...  "
      ]
     },
     "execution_count": 13,
     "metadata": {},
     "output_type": "execute_result"
    }
   ],
   "source": [
    "df.head(1)"
   ]
  },
  {
   "cell_type": "code",
   "execution_count": 14,
   "id": "08dd4796-ec5b-46d1-96ce-3a23f893e5ad",
   "metadata": {},
   "outputs": [
    {
     "data": {
      "text/html": [
       "<div>\n",
       "<style scoped>\n",
       "    .dataframe tbody tr th:only-of-type {\n",
       "        vertical-align: middle;\n",
       "    }\n",
       "\n",
       "    .dataframe tbody tr th {\n",
       "        vertical-align: top;\n",
       "    }\n",
       "\n",
       "    .dataframe thead th {\n",
       "        text-align: right;\n",
       "    }\n",
       "</style>\n",
       "<table border=\"1\" class=\"dataframe\">\n",
       "  <thead>\n",
       "    <tr style=\"text-align: right;\">\n",
       "      <th></th>\n",
       "      <th>ShowID</th>\n",
       "      <th>Category</th>\n",
       "      <th>Title</th>\n",
       "      <th>Director</th>\n",
       "      <th>Cast</th>\n",
       "      <th>Country</th>\n",
       "      <th>Release_Date</th>\n",
       "      <th>Rating</th>\n",
       "      <th>Duration</th>\n",
       "      <th>Type</th>\n",
       "      <th>Description</th>\n",
       "    </tr>\n",
       "  </thead>\n",
       "  <tbody>\n",
       "    <tr>\n",
       "      <th>2832</th>\n",
       "      <td>s2833</td>\n",
       "      <td>TV Show</td>\n",
       "      <td>House of Cards</td>\n",
       "      <td>NaN</td>\n",
       "      <td>Kevin Spacey, Robin Wright, Kate Mara, Corey S...</td>\n",
       "      <td>United States</td>\n",
       "      <td>November 2, 2018</td>\n",
       "      <td>TV-MA</td>\n",
       "      <td>6 Seasons</td>\n",
       "      <td>TV Dramas, TV Thrillers</td>\n",
       "      <td>A ruthless politician will stop at nothing to ...</td>\n",
       "    </tr>\n",
       "  </tbody>\n",
       "</table>\n",
       "</div>"
      ],
      "text/plain": [
       "     ShowID Category           Title Director  \\\n",
       "2832  s2833  TV Show  House of Cards      NaN   \n",
       "\n",
       "                                                   Cast        Country  \\\n",
       "2832  Kevin Spacey, Robin Wright, Kate Mara, Corey S...  United States   \n",
       "\n",
       "          Release_Date Rating   Duration                     Type  \\\n",
       "2832  November 2, 2018  TV-MA  6 Seasons  TV Dramas, TV Thrillers   \n",
       "\n",
       "                                            Description  \n",
       "2832  A ruthless politician will stop at nothing to ...  "
      ]
     },
     "execution_count": 14,
     "metadata": {},
     "output_type": "execute_result"
    }
   ],
   "source": [
    "df[df.Title=='House of Cards']\n",
    "\n",
    "#df[df.Title.isin(['House of Cards'])]\n",
    "#df[df.Title.str.contains('House of Cards')]"
   ]
  },
  {
   "cell_type": "markdown",
   "id": "8e30e6c1-4bec-48f8-894d-a834d3395f01",
   "metadata": {
    "tags": []
   },
   "source": [
    "## 2) In which year the highest number of the TV Shows & Movies were released ? Show with Bar Graph."
   ]
  },
  {
   "cell_type": "code",
   "execution_count": 15,
   "id": "14107bbf-ce2e-47f7-9f6c-8eb21838e1eb",
   "metadata": {},
   "outputs": [
    {
     "data": {
      "text/html": [
       "<div>\n",
       "<style scoped>\n",
       "    .dataframe tbody tr th:only-of-type {\n",
       "        vertical-align: middle;\n",
       "    }\n",
       "\n",
       "    .dataframe tbody tr th {\n",
       "        vertical-align: top;\n",
       "    }\n",
       "\n",
       "    .dataframe thead th {\n",
       "        text-align: right;\n",
       "    }\n",
       "</style>\n",
       "<table border=\"1\" class=\"dataframe\">\n",
       "  <thead>\n",
       "    <tr style=\"text-align: right;\">\n",
       "      <th></th>\n",
       "      <th>ShowID</th>\n",
       "      <th>Category</th>\n",
       "      <th>Title</th>\n",
       "      <th>Director</th>\n",
       "      <th>Cast</th>\n",
       "      <th>Country</th>\n",
       "      <th>Release_Date</th>\n",
       "      <th>Rating</th>\n",
       "      <th>Duration</th>\n",
       "      <th>Type</th>\n",
       "      <th>Description</th>\n",
       "    </tr>\n",
       "  </thead>\n",
       "  <tbody>\n",
       "    <tr>\n",
       "      <th>0</th>\n",
       "      <td>s1</td>\n",
       "      <td>TV Show</td>\n",
       "      <td>3%</td>\n",
       "      <td>NaN</td>\n",
       "      <td>João Miguel, Bianca Comparato, Michel Gomes, R...</td>\n",
       "      <td>Brazil</td>\n",
       "      <td>August 14, 2020</td>\n",
       "      <td>TV-MA</td>\n",
       "      <td>4 Seasons</td>\n",
       "      <td>International TV Shows, TV Dramas, TV Sci-Fi &amp;...</td>\n",
       "      <td>In a future where the elite inhabit an island ...</td>\n",
       "    </tr>\n",
       "  </tbody>\n",
       "</table>\n",
       "</div>"
      ],
      "text/plain": [
       "  ShowID Category Title Director  \\\n",
       "0     s1  TV Show    3%      NaN   \n",
       "\n",
       "                                                Cast Country     Release_Date  \\\n",
       "0  João Miguel, Bianca Comparato, Michel Gomes, R...  Brazil  August 14, 2020   \n",
       "\n",
       "  Rating   Duration                                               Type  \\\n",
       "0  TV-MA  4 Seasons  International TV Shows, TV Dramas, TV Sci-Fi &...   \n",
       "\n",
       "                                         Description  \n",
       "0  In a future where the elite inhabit an island ...  "
      ]
     },
     "execution_count": 15,
     "metadata": {},
     "output_type": "execute_result"
    }
   ],
   "source": [
    "df.head(1)"
   ]
  },
  {
   "cell_type": "code",
   "execution_count": 16,
   "id": "5e8fd8ff-ad82-48c5-9472-8898b6d65a13",
   "metadata": {},
   "outputs": [
    {
     "data": {
      "text/plain": [
       "ShowID          object\n",
       "Category        object\n",
       "Title           object\n",
       "Director        object\n",
       "Cast            object\n",
       "Country         object\n",
       "Release_Date    object\n",
       "Rating          object\n",
       "Duration        object\n",
       "Type            object\n",
       "Description     object\n",
       "dtype: object"
      ]
     },
     "execution_count": 16,
     "metadata": {},
     "output_type": "execute_result"
    }
   ],
   "source": [
    "df.dtypes"
   ]
  },
  {
   "cell_type": "code",
   "execution_count": 17,
   "id": "2be07f87-9bd3-4ef2-8477-59c2cb80ed81",
   "metadata": {},
   "outputs": [],
   "source": [
    "# Convert 'Release_Date' column to datetime format\n",
    "df['Release_Date']=pd.to_datetime(df['Release_Date'],errors='coerce')"
   ]
  },
  {
   "cell_type": "code",
   "execution_count": 18,
   "id": "60ecbefb-25e6-4639-b82d-233ce6611655",
   "metadata": {},
   "outputs": [
    {
     "data": {
      "text/html": [
       "<div>\n",
       "<style scoped>\n",
       "    .dataframe tbody tr th:only-of-type {\n",
       "        vertical-align: middle;\n",
       "    }\n",
       "\n",
       "    .dataframe tbody tr th {\n",
       "        vertical-align: top;\n",
       "    }\n",
       "\n",
       "    .dataframe thead th {\n",
       "        text-align: right;\n",
       "    }\n",
       "</style>\n",
       "<table border=\"1\" class=\"dataframe\">\n",
       "  <thead>\n",
       "    <tr style=\"text-align: right;\">\n",
       "      <th></th>\n",
       "      <th>ShowID</th>\n",
       "      <th>Category</th>\n",
       "      <th>Title</th>\n",
       "      <th>Director</th>\n",
       "      <th>Cast</th>\n",
       "      <th>Country</th>\n",
       "      <th>Release_Date</th>\n",
       "      <th>Rating</th>\n",
       "      <th>Duration</th>\n",
       "      <th>Type</th>\n",
       "      <th>Description</th>\n",
       "    </tr>\n",
       "  </thead>\n",
       "  <tbody>\n",
       "    <tr>\n",
       "      <th>0</th>\n",
       "      <td>s1</td>\n",
       "      <td>TV Show</td>\n",
       "      <td>3%</td>\n",
       "      <td>NaN</td>\n",
       "      <td>João Miguel, Bianca Comparato, Michel Gomes, R...</td>\n",
       "      <td>Brazil</td>\n",
       "      <td>2020-08-14</td>\n",
       "      <td>TV-MA</td>\n",
       "      <td>4 Seasons</td>\n",
       "      <td>International TV Shows, TV Dramas, TV Sci-Fi &amp;...</td>\n",
       "      <td>In a future where the elite inhabit an island ...</td>\n",
       "    </tr>\n",
       "  </tbody>\n",
       "</table>\n",
       "</div>"
      ],
      "text/plain": [
       "  ShowID Category Title Director  \\\n",
       "0     s1  TV Show    3%      NaN   \n",
       "\n",
       "                                                Cast Country Release_Date  \\\n",
       "0  João Miguel, Bianca Comparato, Michel Gomes, R...  Brazil   2020-08-14   \n",
       "\n",
       "  Rating   Duration                                               Type  \\\n",
       "0  TV-MA  4 Seasons  International TV Shows, TV Dramas, TV Sci-Fi &...   \n",
       "\n",
       "                                         Description  \n",
       "0  In a future where the elite inhabit an island ...  "
      ]
     },
     "execution_count": 18,
     "metadata": {},
     "output_type": "execute_result"
    }
   ],
   "source": [
    "df.head(1)"
   ]
  },
  {
   "cell_type": "code",
   "execution_count": 19,
   "id": "d2b171f7-195d-4373-88e6-6003b64728b7",
   "metadata": {},
   "outputs": [
    {
     "data": {
      "text/plain": [
       "ShowID                  object\n",
       "Category                object\n",
       "Title                   object\n",
       "Director                object\n",
       "Cast                    object\n",
       "Country                 object\n",
       "Release_Date    datetime64[ns]\n",
       "Rating                  object\n",
       "Duration                object\n",
       "Type                    object\n",
       "Description             object\n",
       "dtype: object"
      ]
     },
     "execution_count": 19,
     "metadata": {},
     "output_type": "execute_result"
    }
   ],
   "source": [
    "df.dtypes"
   ]
  },
  {
   "cell_type": "code",
   "execution_count": 20,
   "id": "fe0cab16-1f92-4be2-bc4f-2566f59cdccb",
   "metadata": {},
   "outputs": [
    {
     "data": {
      "text/plain": [
       "Release_Date\n",
       "2019.0    2136\n",
       "2020.0    2008\n",
       "2018.0    1661\n",
       "2017.0    1201\n",
       "2016.0     432\n",
       "2021.0     117\n",
       "2015.0      79\n",
       "2014.0      24\n",
       "2011.0      13\n",
       "2013.0      10\n",
       "2012.0       3\n",
       "2008.0       2\n",
       "2009.0       2\n",
       "2010.0       1\n",
       "Name: count, dtype: int64"
      ]
     },
     "execution_count": 20,
     "metadata": {},
     "output_type": "execute_result"
    }
   ],
   "source": [
    "# Extract year from 'Release_Date' and count the occurrences of each year\n",
    "df['Release_Date'].dt.year.value_counts()"
   ]
  },
  {
   "cell_type": "code",
   "execution_count": 21,
   "id": "59ffe0bb-801b-42f2-8843-4758a135379c",
   "metadata": {},
   "outputs": [
    {
     "data": {
      "text/plain": [
       "<Axes: xlabel='Release_Date'>"
      ]
     },
     "execution_count": 21,
     "metadata": {},
     "output_type": "execute_result"
    },
    {
     "data": {
      "image/png": "[encoded data removed]",
      "text/plain": [
       "<Figure size 640x480 with 1 Axes>"
      ]
     },
     "metadata": {},
     "output_type": "display_data"
    }
   ],
   "source": [
    "# Bar graph for the count of Movies and TV Shows\n",
    "df['Release_Date'].dt.year.value_counts().plot(kind='bar')"
   ]
  },
  {
   "cell_type": "markdown",
   "id": "026ce88c-3d9b-4ed0-b808-9ecd5ebb5bfd",
   "metadata": {
    "tags": []
   },
   "source": [
    "## 3) How many Movies & TV Shows are in the dataset ? Show with Bar Graph."
   ]
  },
  {
   "cell_type": "code",
   "execution_count": 22,
   "id": "ab1b0a84-0db4-427c-8a3a-311a1a80aae4",
   "metadata": {},
   "outputs": [
    {
     "data": {
      "text/html": [
       "<div>\n",
       "<style scoped>\n",
       "    .dataframe tbody tr th:only-of-type {\n",
       "        vertical-align: middle;\n",
       "    }\n",
       "\n",
       "    .dataframe tbody tr th {\n",
       "        vertical-align: top;\n",
       "    }\n",
       "\n",
       "    .dataframe thead th {\n",
       "        text-align: right;\n",
       "    }\n",
       "</style>\n",
       "<table border=\"1\" class=\"dataframe\">\n",
       "  <thead>\n",
       "    <tr style=\"text-align: right;\">\n",
       "      <th></th>\n",
       "      <th>ShowID</th>\n",
       "      <th>Category</th>\n",
       "      <th>Title</th>\n",
       "      <th>Director</th>\n",
       "      <th>Cast</th>\n",
       "      <th>Country</th>\n",
       "      <th>Release_Date</th>\n",
       "      <th>Rating</th>\n",
       "      <th>Duration</th>\n",
       "      <th>Type</th>\n",
       "      <th>Description</th>\n",
       "    </tr>\n",
       "  </thead>\n",
       "  <tbody>\n",
       "    <tr>\n",
       "      <th>0</th>\n",
       "      <td>s1</td>\n",
       "      <td>TV Show</td>\n",
       "      <td>3%</td>\n",
       "      <td>NaN</td>\n",
       "      <td>João Miguel, Bianca Comparato, Michel Gomes, R...</td>\n",
       "      <td>Brazil</td>\n",
       "      <td>2020-08-14</td>\n",
       "      <td>TV-MA</td>\n",
       "      <td>4 Seasons</td>\n",
       "      <td>International TV Shows, TV Dramas, TV Sci-Fi &amp;...</td>\n",
       "      <td>In a future where the elite inhabit an island ...</td>\n",
       "    </tr>\n",
       "  </tbody>\n",
       "</table>\n",
       "</div>"
      ],
      "text/plain": [
       "  ShowID Category Title Director  \\\n",
       "0     s1  TV Show    3%      NaN   \n",
       "\n",
       "                                                Cast Country Release_Date  \\\n",
       "0  João Miguel, Bianca Comparato, Michel Gomes, R...  Brazil   2020-08-14   \n",
       "\n",
       "  Rating   Duration                                               Type  \\\n",
       "0  TV-MA  4 Seasons  International TV Shows, TV Dramas, TV Sci-Fi &...   \n",
       "\n",
       "                                         Description  \n",
       "0  In a future where the elite inhabit an island ...  "
      ]
     },
     "execution_count": 22,
     "metadata": {},
     "output_type": "execute_result"
    }
   ],
   "source": [
    "df.head(1)"
   ]
  },
  {
   "cell_type": "code",
   "execution_count": 23,
   "id": "8d17481c-c30d-4d01-8dca-3717806f7b26",
   "metadata": {},
   "outputs": [
    {
     "data": {
      "text/plain": [
       "Category\n",
       "Movie      5377\n",
       "TV Show    2410\n",
       "Name: count, dtype: int64"
      ]
     },
     "execution_count": 23,
     "metadata": {},
     "output_type": "execute_result"
    }
   ],
   "source": [
    "# Count of Movies and TV Shows\n",
    "\n",
    "# using .groupby()\n",
    "# df.groupby('Category').Category.count()\n",
    "\n",
    "# using .value_counts()\n",
    "df.Category.value_counts()"
   ]
  },
  {
   "cell_type": "code",
   "execution_count": 24,
   "id": "173ceb44-d0e8-4e0e-9ef1-925f82a3cb07",
   "metadata": {},
   "outputs": [
    {
     "data": {
      "text/plain": [
       "<Axes: xlabel='Category'>"
      ]
     },
     "execution_count": 24,
     "metadata": {},
     "output_type": "execute_result"
    },
    {
     "data": {
      "image/png": "[encoded data removed]",
      "text/plain": [
       "<Figure size 640x480 with 1 Axes>"
      ]
     },
     "metadata": {},
     "output_type": "display_data"
    }
   ],
   "source": [
    "### using pandas bar graph\n",
    "# df.Category.value_counts().plot(kind='bar')\n",
    "\n",
    "### using seaborn bar graph\n",
    "sns.barplot(x=df.Category.value_counts().index,y=df.Category.value_counts().values)"
   ]
  },
  {
   "cell_type": "markdown",
   "id": "64a74f2e-8624-4968-9930-721712b9d8b2",
   "metadata": {
    "tags": []
   },
   "source": [
    "## 4) Show all the Movies that were released in year 2012."
   ]
  },
  {
   "cell_type": "code",
   "execution_count": 25,
   "id": "28655e9e-3ac3-4354-8ac3-581e591fbf72",
   "metadata": {},
   "outputs": [
    {
     "data": {
      "text/html": [
       "<div>\n",
       "<style scoped>\n",
       "    .dataframe tbody tr th:only-of-type {\n",
       "        vertical-align: middle;\n",
       "    }\n",
       "\n",
       "    .dataframe tbody tr th {\n",
       "        vertical-align: top;\n",
       "    }\n",
       "\n",
       "    .dataframe thead th {\n",
       "        text-align: right;\n",
       "    }\n",
       "</style>\n",
       "<table border=\"1\" class=\"dataframe\">\n",
       "  <thead>\n",
       "    <tr style=\"text-align: right;\">\n",
       "      <th></th>\n",
       "      <th>ShowID</th>\n",
       "      <th>Category</th>\n",
       "      <th>Title</th>\n",
       "      <th>Director</th>\n",
       "      <th>Cast</th>\n",
       "      <th>Country</th>\n",
       "      <th>Release_Date</th>\n",
       "      <th>Rating</th>\n",
       "      <th>Duration</th>\n",
       "      <th>Type</th>\n",
       "      <th>Description</th>\n",
       "    </tr>\n",
       "  </thead>\n",
       "  <tbody>\n",
       "    <tr>\n",
       "      <th>0</th>\n",
       "      <td>s1</td>\n",
       "      <td>TV Show</td>\n",
       "      <td>3%</td>\n",
       "      <td>NaN</td>\n",
       "      <td>João Miguel, Bianca Comparato, Michel Gomes, R...</td>\n",
       "      <td>Brazil</td>\n",
       "      <td>2020-08-14</td>\n",
       "      <td>TV-MA</td>\n",
       "      <td>4 Seasons</td>\n",
       "      <td>International TV Shows, TV Dramas, TV Sci-Fi &amp;...</td>\n",
       "      <td>In a future where the elite inhabit an island ...</td>\n",
       "    </tr>\n",
       "  </tbody>\n",
       "</table>\n",
       "</div>"
      ],
      "text/plain": [
       "  ShowID Category Title Director  \\\n",
       "0     s1  TV Show    3%      NaN   \n",
       "\n",
       "                                                Cast Country Release_Date  \\\n",
       "0  João Miguel, Bianca Comparato, Michel Gomes, R...  Brazil   2020-08-14   \n",
       "\n",
       "  Rating   Duration                                               Type  \\\n",
       "0  TV-MA  4 Seasons  International TV Shows, TV Dramas, TV Sci-Fi &...   \n",
       "\n",
       "                                         Description  \n",
       "0  In a future where the elite inhabit an island ...  "
      ]
     },
     "execution_count": 25,
     "metadata": {},
     "output_type": "execute_result"
    }
   ],
   "source": [
    "df.head(1)"
   ]
  },
  {
   "cell_type": "code",
   "execution_count": 26,
   "id": "e98522e5-e59b-42bd-bec4-a4aecebecb80",
   "metadata": {},
   "outputs": [
    {
     "data": {
      "text/html": [
       "<div>\n",
       "<style scoped>\n",
       "    .dataframe tbody tr th:only-of-type {\n",
       "        vertical-align: middle;\n",
       "    }\n",
       "\n",
       "    .dataframe tbody tr th {\n",
       "        vertical-align: top;\n",
       "    }\n",
       "\n",
       "    .dataframe thead th {\n",
       "        text-align: right;\n",
       "    }\n",
       "</style>\n",
       "<table border=\"1\" class=\"dataframe\">\n",
       "  <thead>\n",
       "    <tr style=\"text-align: right;\">\n",
       "      <th></th>\n",
       "      <th>ShowID</th>\n",
       "      <th>Category</th>\n",
       "      <th>Title</th>\n",
       "      <th>Director</th>\n",
       "      <th>Cast</th>\n",
       "      <th>Country</th>\n",
       "      <th>Release_Date</th>\n",
       "      <th>Rating</th>\n",
       "      <th>Duration</th>\n",
       "      <th>Type</th>\n",
       "      <th>Description</th>\n",
       "    </tr>\n",
       "  </thead>\n",
       "  <tbody>\n",
       "    <tr>\n",
       "      <th>818</th>\n",
       "      <td>s819</td>\n",
       "      <td>Movie</td>\n",
       "      <td>Being Elmo: A Puppeteer's Journey</td>\n",
       "      <td>Constance Marks</td>\n",
       "      <td>Kevin Clash, Whoopi Goldberg</td>\n",
       "      <td>United States</td>\n",
       "      <td>2012-02-21</td>\n",
       "      <td>PG</td>\n",
       "      <td>76 min</td>\n",
       "      <td>Documentaries</td>\n",
       "      <td>Whoopi Goldberg narrates Elmo creator Kevin Cl...</td>\n",
       "    </tr>\n",
       "    <tr>\n",
       "      <th>1229</th>\n",
       "      <td>s1230</td>\n",
       "      <td>Movie</td>\n",
       "      <td>Casa de mi Padre</td>\n",
       "      <td>Matt Piedmont</td>\n",
       "      <td>Will Ferrell, Gael García Bernal, Diego Luna, ...</td>\n",
       "      <td>United States, Mexico</td>\n",
       "      <td>2012-11-14</td>\n",
       "      <td>R</td>\n",
       "      <td>84 min</td>\n",
       "      <td>Comedies</td>\n",
       "      <td>Will Ferrell stars as a Spanish-speaking cowbo...</td>\n",
       "    </tr>\n",
       "    <tr>\n",
       "      <th>3466</th>\n",
       "      <td>s3467</td>\n",
       "      <td>Movie</td>\n",
       "      <td>Kung Fu Panda: Holiday</td>\n",
       "      <td>Tim Johnson</td>\n",
       "      <td>Jack Black, Angelina Jolie, Dustin Hoffman, Ja...</td>\n",
       "      <td>United States</td>\n",
       "      <td>2012-12-01</td>\n",
       "      <td>TV-PG</td>\n",
       "      <td>26 min</td>\n",
       "      <td>Children &amp; Family Movies, Comedies</td>\n",
       "      <td>As preparations for the Winter Feast build, Po...</td>\n",
       "    </tr>\n",
       "  </tbody>\n",
       "</table>\n",
       "</div>"
      ],
      "text/plain": [
       "     ShowID Category                              Title         Director  \\\n",
       "818    s819    Movie  Being Elmo: A Puppeteer's Journey  Constance Marks   \n",
       "1229  s1230    Movie                   Casa de mi Padre    Matt Piedmont   \n",
       "3466  s3467    Movie             Kung Fu Panda: Holiday      Tim Johnson   \n",
       "\n",
       "                                                   Cast  \\\n",
       "818                        Kevin Clash, Whoopi Goldberg   \n",
       "1229  Will Ferrell, Gael García Bernal, Diego Luna, ...   \n",
       "3466  Jack Black, Angelina Jolie, Dustin Hoffman, Ja...   \n",
       "\n",
       "                    Country Release_Date Rating Duration  \\\n",
       "818           United States   2012-02-21     PG   76 min   \n",
       "1229  United States, Mexico   2012-11-14      R   84 min   \n",
       "3466          United States   2012-12-01  TV-PG   26 min   \n",
       "\n",
       "                                    Type  \\\n",
       "818                        Documentaries   \n",
       "1229                            Comedies   \n",
       "3466  Children & Family Movies, Comedies   \n",
       "\n",
       "                                            Description  \n",
       "818   Whoopi Goldberg narrates Elmo creator Kevin Cl...  \n",
       "1229  Will Ferrell stars as a Spanish-speaking cowbo...  \n",
       "3466  As preparations for the Winter Feast build, Po...  "
      ]
     },
     "execution_count": 26,
     "metadata": {},
     "output_type": "execute_result"
    }
   ],
   "source": [
    "df[(df.Category=='Movie')&(df.Release_Date.dt.year==2012)]"
   ]
  },
  {
   "cell_type": "markdown",
   "id": "1f160ba2-dc78-43dc-ba76-a4a42decfa04",
   "metadata": {
    "tags": []
   },
   "source": [
    "## 5) Show only the Titles of all TV Shows that were released in India only."
   ]
  },
  {
   "cell_type": "code",
   "execution_count": 27,
   "id": "feba5101-297e-4bb0-8eec-4ef217f31740",
   "metadata": {},
   "outputs": [
    {
     "data": {
      "text/html": [
       "<div>\n",
       "<style scoped>\n",
       "    .dataframe tbody tr th:only-of-type {\n",
       "        vertical-align: middle;\n",
       "    }\n",
       "\n",
       "    .dataframe tbody tr th {\n",
       "        vertical-align: top;\n",
       "    }\n",
       "\n",
       "    .dataframe thead th {\n",
       "        text-align: right;\n",
       "    }\n",
       "</style>\n",
       "<table border=\"1\" class=\"dataframe\">\n",
       "  <thead>\n",
       "    <tr style=\"text-align: right;\">\n",
       "      <th></th>\n",
       "      <th>ShowID</th>\n",
       "      <th>Category</th>\n",
       "      <th>Title</th>\n",
       "      <th>Director</th>\n",
       "      <th>Cast</th>\n",
       "      <th>Country</th>\n",
       "      <th>Release_Date</th>\n",
       "      <th>Rating</th>\n",
       "      <th>Duration</th>\n",
       "      <th>Type</th>\n",
       "      <th>Description</th>\n",
       "    </tr>\n",
       "  </thead>\n",
       "  <tbody>\n",
       "    <tr>\n",
       "      <th>0</th>\n",
       "      <td>s1</td>\n",
       "      <td>TV Show</td>\n",
       "      <td>3%</td>\n",
       "      <td>NaN</td>\n",
       "      <td>João Miguel, Bianca Comparato, Michel Gomes, R...</td>\n",
       "      <td>Brazil</td>\n",
       "      <td>2020-08-14</td>\n",
       "      <td>TV-MA</td>\n",
       "      <td>4 Seasons</td>\n",
       "      <td>International TV Shows, TV Dramas, TV Sci-Fi &amp;...</td>\n",
       "      <td>In a future where the elite inhabit an island ...</td>\n",
       "    </tr>\n",
       "  </tbody>\n",
       "</table>\n",
       "</div>"
      ],
      "text/plain": [
       "  ShowID Category Title Director  \\\n",
       "0     s1  TV Show    3%      NaN   \n",
       "\n",
       "                                                Cast Country Release_Date  \\\n",
       "0  João Miguel, Bianca Comparato, Michel Gomes, R...  Brazil   2020-08-14   \n",
       "\n",
       "  Rating   Duration                                               Type  \\\n",
       "0  TV-MA  4 Seasons  International TV Shows, TV Dramas, TV Sci-Fi &...   \n",
       "\n",
       "                                         Description  \n",
       "0  In a future where the elite inhabit an island ...  "
      ]
     },
     "execution_count": 27,
     "metadata": {},
     "output_type": "execute_result"
    }
   ],
   "source": [
    "df.head(1)"
   ]
  },
  {
   "cell_type": "code",
   "execution_count": 28,
   "id": "a2e17b41-9e74-4920-917b-cc77438a6e2c",
   "metadata": {},
   "outputs": [
    {
     "data": {
      "text/plain": [
       "86            21 Sarfarosh: Saragarhi 1897\n",
       "132                              7 (Seven)\n",
       "340                           Agent Raghav\n",
       "364                           Akbar Birbal\n",
       "533                    Anjaan: Rural Myths\n",
       "                       ...                \n",
       "6248                  The Creative Indians\n",
       "6398    The Golden Years with Javed Akhtar\n",
       "6467                The House That Made Me\n",
       "7292                            Typewriter\n",
       "7703                       Yeh Meri Family\n",
       "Name: Title, Length: 71, dtype: object"
      ]
     },
     "execution_count": 28,
     "metadata": {},
     "output_type": "execute_result"
    }
   ],
   "source": [
    "df[(df.Category=='TV Show')&(df.Country=='India')].Title"
   ]
  },
  {
   "cell_type": "markdown",
   "id": "d42fbf7c-a422-4a61-84db-aa40406beddb",
   "metadata": {
    "tags": []
   },
   "source": [
    "## 6) Show Top 10 Directors, who gave the highest number of TV Shows & Movies to Netflix ?"
   ]
  },
  {
   "cell_type": "code",
   "execution_count": 29,
   "id": "7ad953e6-d99e-4745-b1c6-3ec10008cfe4",
   "metadata": {},
   "outputs": [
    {
     "data": {
      "text/html": [
       "<div>\n",
       "<style scoped>\n",
       "    .dataframe tbody tr th:only-of-type {\n",
       "        vertical-align: middle;\n",
       "    }\n",
       "\n",
       "    .dataframe tbody tr th {\n",
       "        vertical-align: top;\n",
       "    }\n",
       "\n",
       "    .dataframe thead th {\n",
       "        text-align: right;\n",
       "    }\n",
       "</style>\n",
       "<table border=\"1\" class=\"dataframe\">\n",
       "  <thead>\n",
       "    <tr style=\"text-align: right;\">\n",
       "      <th></th>\n",
       "      <th>ShowID</th>\n",
       "      <th>Category</th>\n",
       "      <th>Title</th>\n",
       "      <th>Director</th>\n",
       "      <th>Cast</th>\n",
       "      <th>Country</th>\n",
       "      <th>Release_Date</th>\n",
       "      <th>Rating</th>\n",
       "      <th>Duration</th>\n",
       "      <th>Type</th>\n",
       "      <th>Description</th>\n",
       "    </tr>\n",
       "  </thead>\n",
       "  <tbody>\n",
       "    <tr>\n",
       "      <th>0</th>\n",
       "      <td>s1</td>\n",
       "      <td>TV Show</td>\n",
       "      <td>3%</td>\n",
       "      <td>NaN</td>\n",
       "      <td>João Miguel, Bianca Comparato, Michel Gomes, R...</td>\n",
       "      <td>Brazil</td>\n",
       "      <td>2020-08-14</td>\n",
       "      <td>TV-MA</td>\n",
       "      <td>4 Seasons</td>\n",
       "      <td>International TV Shows, TV Dramas, TV Sci-Fi &amp;...</td>\n",
       "      <td>In a future where the elite inhabit an island ...</td>\n",
       "    </tr>\n",
       "  </tbody>\n",
       "</table>\n",
       "</div>"
      ],
      "text/plain": [
       "  ShowID Category Title Director  \\\n",
       "0     s1  TV Show    3%      NaN   \n",
       "\n",
       "                                                Cast Country Release_Date  \\\n",
       "0  João Miguel, Bianca Comparato, Michel Gomes, R...  Brazil   2020-08-14   \n",
       "\n",
       "  Rating   Duration                                               Type  \\\n",
       "0  TV-MA  4 Seasons  International TV Shows, TV Dramas, TV Sci-Fi &...   \n",
       "\n",
       "                                         Description  \n",
       "0  In a future where the elite inhabit an island ...  "
      ]
     },
     "execution_count": 29,
     "metadata": {},
     "output_type": "execute_result"
    }
   ],
   "source": [
    "df.head(1)"
   ]
  },
  {
   "cell_type": "code",
   "execution_count": 30,
   "id": "9294915a-f114-4037-8c5c-c054a5a1ff44",
   "metadata": {},
   "outputs": [
    {
     "data": {
      "text/plain": [
       "Director\n",
       "Raúl Campos, Jan Suter    18\n",
       "Marcus Raboy              16\n",
       "Jay Karas                 14\n",
       "Cathy Garcia-Molina       13\n",
       "Youssef Chahine           12\n",
       "Martin Scorsese           12\n",
       "Jay Chapman               12\n",
       "Steven Spielberg          10\n",
       "David Dhawan               9\n",
       "Ryan Polito                8\n",
       "Name: count, dtype: int64"
      ]
     },
     "execution_count": 30,
     "metadata": {},
     "output_type": "execute_result"
    }
   ],
   "source": [
    "df.Director.value_counts().head(10)"
   ]
  },
  {
   "cell_type": "markdown",
   "id": "ca2dbcbc-b56f-4724-9876-5016b74a20cf",
   "metadata": {
    "tags": []
   },
   "source": [
    "## 7) Show all the Records, where \"Category is Movie and Type is Comedies\" or \"Country is United Kingdom\"."
   ]
  },
  {
   "cell_type": "code",
   "execution_count": 31,
   "id": "46b00317-441c-4c6e-b5cb-c0fc77ba91d2",
   "metadata": {},
   "outputs": [
    {
     "data": {
      "text/html": [
       "<div>\n",
       "<style scoped>\n",
       "    .dataframe tbody tr th:only-of-type {\n",
       "        vertical-align: middle;\n",
       "    }\n",
       "\n",
       "    .dataframe tbody tr th {\n",
       "        vertical-align: top;\n",
       "    }\n",
       "\n",
       "    .dataframe thead th {\n",
       "        text-align: right;\n",
       "    }\n",
       "</style>\n",
       "<table border=\"1\" class=\"dataframe\">\n",
       "  <thead>\n",
       "    <tr style=\"text-align: right;\">\n",
       "      <th></th>\n",
       "      <th>ShowID</th>\n",
       "      <th>Category</th>\n",
       "      <th>Title</th>\n",
       "      <th>Director</th>\n",
       "      <th>Cast</th>\n",
       "      <th>Country</th>\n",
       "      <th>Release_Date</th>\n",
       "      <th>Rating</th>\n",
       "      <th>Duration</th>\n",
       "      <th>Type</th>\n",
       "      <th>Description</th>\n",
       "    </tr>\n",
       "  </thead>\n",
       "  <tbody>\n",
       "    <tr>\n",
       "      <th>0</th>\n",
       "      <td>s1</td>\n",
       "      <td>TV Show</td>\n",
       "      <td>3%</td>\n",
       "      <td>NaN</td>\n",
       "      <td>João Miguel, Bianca Comparato, Michel Gomes, R...</td>\n",
       "      <td>Brazil</td>\n",
       "      <td>2020-08-14</td>\n",
       "      <td>TV-MA</td>\n",
       "      <td>4 Seasons</td>\n",
       "      <td>International TV Shows, TV Dramas, TV Sci-Fi &amp;...</td>\n",
       "      <td>In a future where the elite inhabit an island ...</td>\n",
       "    </tr>\n",
       "  </tbody>\n",
       "</table>\n",
       "</div>"
      ],
      "text/plain": [
       "  ShowID Category Title Director  \\\n",
       "0     s1  TV Show    3%      NaN   \n",
       "\n",
       "                                                Cast Country Release_Date  \\\n",
       "0  João Miguel, Bianca Comparato, Michel Gomes, R...  Brazil   2020-08-14   \n",
       "\n",
       "  Rating   Duration                                               Type  \\\n",
       "0  TV-MA  4 Seasons  International TV Shows, TV Dramas, TV Sci-Fi &...   \n",
       "\n",
       "                                         Description  \n",
       "0  In a future where the elite inhabit an island ...  "
      ]
     },
     "execution_count": 31,
     "metadata": {},
     "output_type": "execute_result"
    }
   ],
   "source": [
    "df.head(1)"
   ]
  },
  {
   "cell_type": "code",
   "execution_count": 32,
   "id": "e5dbd33e-5661-497f-9052-6d3d9fa2910e",
   "metadata": {
    "scrolled": true
   },
   "outputs": [
    {
     "data": {
      "text/html": [
       "<div>\n",
       "<style scoped>\n",
       "    .dataframe tbody tr th:only-of-type {\n",
       "        vertical-align: middle;\n",
       "    }\n",
       "\n",
       "    .dataframe tbody tr th {\n",
       "        vertical-align: top;\n",
       "    }\n",
       "\n",
       "    .dataframe thead th {\n",
       "        text-align: right;\n",
       "    }\n",
       "</style>\n",
       "<table border=\"1\" class=\"dataframe\">\n",
       "  <thead>\n",
       "    <tr style=\"text-align: right;\">\n",
       "      <th></th>\n",
       "      <th>ShowID</th>\n",
       "      <th>Category</th>\n",
       "      <th>Title</th>\n",
       "      <th>Director</th>\n",
       "      <th>Cast</th>\n",
       "      <th>Country</th>\n",
       "      <th>Release_Date</th>\n",
       "      <th>Rating</th>\n",
       "      <th>Duration</th>\n",
       "      <th>Type</th>\n",
       "      <th>Description</th>\n",
       "    </tr>\n",
       "  </thead>\n",
       "  <tbody>\n",
       "    <tr>\n",
       "      <th>19</th>\n",
       "      <td>s20</td>\n",
       "      <td>Movie</td>\n",
       "      <td>'89</td>\n",
       "      <td>NaN</td>\n",
       "      <td>Lee Dixon, Ian Wright, Paul Merson</td>\n",
       "      <td>United Kingdom</td>\n",
       "      <td>2018-05-16</td>\n",
       "      <td>TV-PG</td>\n",
       "      <td>87 min</td>\n",
       "      <td>Sports Movies</td>\n",
       "      <td>Mixing old footage with interviews, this is th...</td>\n",
       "    </tr>\n",
       "    <tr>\n",
       "      <th>33</th>\n",
       "      <td>s34</td>\n",
       "      <td>Movie</td>\n",
       "      <td>#realityhigh</td>\n",
       "      <td>Fernando Lebrija</td>\n",
       "      <td>Nesta Cooper, Kate Walsh, John Michael Higgins...</td>\n",
       "      <td>United States</td>\n",
       "      <td>2017-09-08</td>\n",
       "      <td>TV-14</td>\n",
       "      <td>99 min</td>\n",
       "      <td>Comedies</td>\n",
       "      <td>When nerdy high schooler Dani finally attracts...</td>\n",
       "    </tr>\n",
       "    <tr>\n",
       "      <th>58</th>\n",
       "      <td>s59</td>\n",
       "      <td>TV Show</td>\n",
       "      <td>100% Hotter</td>\n",
       "      <td>NaN</td>\n",
       "      <td>Daniel Palmer, Melissa Sophia, Karen Williams,...</td>\n",
       "      <td>United Kingdom</td>\n",
       "      <td>2019-11-01</td>\n",
       "      <td>TV-14</td>\n",
       "      <td>1 Season</td>\n",
       "      <td>British TV Shows, International TV Shows, Real...</td>\n",
       "      <td>A stylist, a hair designer and a makeup artist...</td>\n",
       "    </tr>\n",
       "    <tr>\n",
       "      <th>72</th>\n",
       "      <td>s73</td>\n",
       "      <td>Movie</td>\n",
       "      <td>17 Again</td>\n",
       "      <td>Burr Steers</td>\n",
       "      <td>Zac Efron, Leslie Mann, Matthew Perry, Thomas ...</td>\n",
       "      <td>United States</td>\n",
       "      <td>2021-01-01</td>\n",
       "      <td>PG-13</td>\n",
       "      <td>102 min</td>\n",
       "      <td>Comedies</td>\n",
       "      <td>Nearing a midlife crisis, thirty-something Mik...</td>\n",
       "    </tr>\n",
       "    <tr>\n",
       "      <th>82</th>\n",
       "      <td>s83</td>\n",
       "      <td>Movie</td>\n",
       "      <td>2036 Origin Unknown</td>\n",
       "      <td>Hasraf Dulull</td>\n",
       "      <td>Katee Sackhoff, Ray Fearon, Julie Cox, Steven ...</td>\n",
       "      <td>United Kingdom</td>\n",
       "      <td>2018-12-20</td>\n",
       "      <td>TV-14</td>\n",
       "      <td>95 min</td>\n",
       "      <td>Sci-Fi &amp; Fantasy</td>\n",
       "      <td>Working with an artificial intelligence to inv...</td>\n",
       "    </tr>\n",
       "    <tr>\n",
       "      <th>...</th>\n",
       "      <td>...</td>\n",
       "      <td>...</td>\n",
       "      <td>...</td>\n",
       "      <td>...</td>\n",
       "      <td>...</td>\n",
       "      <td>...</td>\n",
       "      <td>...</td>\n",
       "      <td>...</td>\n",
       "      <td>...</td>\n",
       "      <td>...</td>\n",
       "      <td>...</td>\n",
       "    </tr>\n",
       "    <tr>\n",
       "      <th>7668</th>\n",
       "      <td>s7669</td>\n",
       "      <td>TV Show</td>\n",
       "      <td>World War II in Colour</td>\n",
       "      <td>NaN</td>\n",
       "      <td>Robert Powell</td>\n",
       "      <td>United Kingdom</td>\n",
       "      <td>2017-08-01</td>\n",
       "      <td>TV-MA</td>\n",
       "      <td>1 Season</td>\n",
       "      <td>British TV Shows, Docuseries, International TV...</td>\n",
       "      <td>Footage of the most dramatic moments from Worl...</td>\n",
       "    </tr>\n",
       "    <tr>\n",
       "      <th>7669</th>\n",
       "      <td>s7670</td>\n",
       "      <td>TV Show</td>\n",
       "      <td>World's Busiest Cities</td>\n",
       "      <td>NaN</td>\n",
       "      <td>Anita Rani, Ade Adepitan, Dan Snow</td>\n",
       "      <td>United Kingdom</td>\n",
       "      <td>2019-02-01</td>\n",
       "      <td>TV-PG</td>\n",
       "      <td>1 Season</td>\n",
       "      <td>British TV Shows, Docuseries</td>\n",
       "      <td>From Moscow to Mexico City, three BBC journali...</td>\n",
       "    </tr>\n",
       "    <tr>\n",
       "      <th>7686</th>\n",
       "      <td>s7687</td>\n",
       "      <td>Movie</td>\n",
       "      <td>XV: Beyond the Tryline</td>\n",
       "      <td>Pierre Deschamps</td>\n",
       "      <td>NaN</td>\n",
       "      <td>United Kingdom</td>\n",
       "      <td>2020-03-18</td>\n",
       "      <td>TV-14</td>\n",
       "      <td>91 min</td>\n",
       "      <td>Documentaries, Sports Movies</td>\n",
       "      <td>Set against the 2015 Rugby World Cup, this doc...</td>\n",
       "    </tr>\n",
       "    <tr>\n",
       "      <th>7723</th>\n",
       "      <td>s7724</td>\n",
       "      <td>Movie</td>\n",
       "      <td>You Can Tutu</td>\n",
       "      <td>James Brown</td>\n",
       "      <td>Lily O'Regan, Jeannettsy Enriquez Borges, Joel...</td>\n",
       "      <td>United Kingdom</td>\n",
       "      <td>2017-12-31</td>\n",
       "      <td>TV-G</td>\n",
       "      <td>87 min</td>\n",
       "      <td>Children &amp; Family Movies</td>\n",
       "      <td>A gifted young ballet dancer struggles to find...</td>\n",
       "    </tr>\n",
       "    <tr>\n",
       "      <th>7738</th>\n",
       "      <td>s7739</td>\n",
       "      <td>TV Show</td>\n",
       "      <td>Young Wallander</td>\n",
       "      <td>NaN</td>\n",
       "      <td>Adam Pålsson, Richard Dillane, Leanne Best, El...</td>\n",
       "      <td>United Kingdom</td>\n",
       "      <td>2020-09-03</td>\n",
       "      <td>TV-MA</td>\n",
       "      <td>1 Season</td>\n",
       "      <td>Crime TV Shows, International TV Shows, TV Dramas</td>\n",
       "      <td>An incendiary hate crime stirs civil unrest, f...</td>\n",
       "    </tr>\n",
       "  </tbody>\n",
       "</table>\n",
       "<p>485 rows × 11 columns</p>\n",
       "</div>"
      ],
      "text/plain": [
       "     ShowID Category                   Title          Director  \\\n",
       "19      s20    Movie                     '89               NaN   \n",
       "33      s34    Movie            #realityhigh  Fernando Lebrija   \n",
       "58      s59  TV Show             100% Hotter               NaN   \n",
       "72      s73    Movie                17 Again       Burr Steers   \n",
       "82      s83    Movie     2036 Origin Unknown     Hasraf Dulull   \n",
       "...     ...      ...                     ...               ...   \n",
       "7668  s7669  TV Show  World War II in Colour               NaN   \n",
       "7669  s7670  TV Show  World's Busiest Cities               NaN   \n",
       "7686  s7687    Movie  XV: Beyond the Tryline  Pierre Deschamps   \n",
       "7723  s7724    Movie            You Can Tutu       James Brown   \n",
       "7738  s7739  TV Show         Young Wallander               NaN   \n",
       "\n",
       "                                                   Cast         Country  \\\n",
       "19                   Lee Dixon, Ian Wright, Paul Merson  United Kingdom   \n",
       "33    Nesta Cooper, Kate Walsh, John Michael Higgins...   United States   \n",
       "58    Daniel Palmer, Melissa Sophia, Karen Williams,...  United Kingdom   \n",
       "72    Zac Efron, Leslie Mann, Matthew Perry, Thomas ...   United States   \n",
       "82    Katee Sackhoff, Ray Fearon, Julie Cox, Steven ...  United Kingdom   \n",
       "...                                                 ...             ...   \n",
       "7668                                      Robert Powell  United Kingdom   \n",
       "7669                 Anita Rani, Ade Adepitan, Dan Snow  United Kingdom   \n",
       "7686                                                NaN  United Kingdom   \n",
       "7723  Lily O'Regan, Jeannettsy Enriquez Borges, Joel...  United Kingdom   \n",
       "7738  Adam Pålsson, Richard Dillane, Leanne Best, El...  United Kingdom   \n",
       "\n",
       "     Release_Date Rating  Duration  \\\n",
       "19     2018-05-16  TV-PG    87 min   \n",
       "33     2017-09-08  TV-14    99 min   \n",
       "58     2019-11-01  TV-14  1 Season   \n",
       "72     2021-01-01  PG-13   102 min   \n",
       "82     2018-12-20  TV-14    95 min   \n",
       "...           ...    ...       ...   \n",
       "7668   2017-08-01  TV-MA  1 Season   \n",
       "7669   2019-02-01  TV-PG  1 Season   \n",
       "7686   2020-03-18  TV-14    91 min   \n",
       "7723   2017-12-31   TV-G    87 min   \n",
       "7738   2020-09-03  TV-MA  1 Season   \n",
       "\n",
       "                                                   Type  \\\n",
       "19                                        Sports Movies   \n",
       "33                                             Comedies   \n",
       "58    British TV Shows, International TV Shows, Real...   \n",
       "72                                             Comedies   \n",
       "82                                     Sci-Fi & Fantasy   \n",
       "...                                                 ...   \n",
       "7668  British TV Shows, Docuseries, International TV...   \n",
       "7669                       British TV Shows, Docuseries   \n",
       "7686                       Documentaries, Sports Movies   \n",
       "7723                           Children & Family Movies   \n",
       "7738  Crime TV Shows, International TV Shows, TV Dramas   \n",
       "\n",
       "                                            Description  \n",
       "19    Mixing old footage with interviews, this is th...  \n",
       "33    When nerdy high schooler Dani finally attracts...  \n",
       "58    A stylist, a hair designer and a makeup artist...  \n",
       "72    Nearing a midlife crisis, thirty-something Mik...  \n",
       "82    Working with an artificial intelligence to inv...  \n",
       "...                                                 ...  \n",
       "7668  Footage of the most dramatic moments from Worl...  \n",
       "7669  From Moscow to Mexico City, three BBC journali...  \n",
       "7686  Set against the 2015 Rugby World Cup, this doc...  \n",
       "7723  A gifted young ballet dancer struggles to find...  \n",
       "7738  An incendiary hate crime stirs civil unrest, f...  \n",
       "\n",
       "[485 rows x 11 columns]"
      ]
     },
     "execution_count": 32,
     "metadata": {},
     "output_type": "execute_result"
    }
   ],
   "source": [
    "df[((df.Category=='Movie')&(df.Type=='Comedies'))|(df.Country=='United Kingdom')]"
   ]
  },
  {
   "cell_type": "markdown",
   "id": "ef6bfee2-9aa0-4ab7-83ab-1910083f2f1a",
   "metadata": {
    "tags": []
   },
   "source": [
    "##  8) In how many movies/shows, Tom Cruise was cast ?"
   ]
  },
  {
   "cell_type": "code",
   "execution_count": 33,
   "id": "97a26aca-33c5-4271-bcc5-06faf5d4dfd5",
   "metadata": {},
   "outputs": [
    {
     "data": {
      "text/html": [
       "<div>\n",
       "<style scoped>\n",
       "    .dataframe tbody tr th:only-of-type {\n",
       "        vertical-align: middle;\n",
       "    }\n",
       "\n",
       "    .dataframe tbody tr th {\n",
       "        vertical-align: top;\n",
       "    }\n",
       "\n",
       "    .dataframe thead th {\n",
       "        text-align: right;\n",
       "    }\n",
       "</style>\n",
       "<table border=\"1\" class=\"dataframe\">\n",
       "  <thead>\n",
       "    <tr style=\"text-align: right;\">\n",
       "      <th></th>\n",
       "      <th>ShowID</th>\n",
       "      <th>Category</th>\n",
       "      <th>Title</th>\n",
       "      <th>Director</th>\n",
       "      <th>Cast</th>\n",
       "      <th>Country</th>\n",
       "      <th>Release_Date</th>\n",
       "      <th>Rating</th>\n",
       "      <th>Duration</th>\n",
       "      <th>Type</th>\n",
       "      <th>Description</th>\n",
       "    </tr>\n",
       "  </thead>\n",
       "  <tbody>\n",
       "    <tr>\n",
       "      <th>0</th>\n",
       "      <td>s1</td>\n",
       "      <td>TV Show</td>\n",
       "      <td>3%</td>\n",
       "      <td>NaN</td>\n",
       "      <td>João Miguel, Bianca Comparato, Michel Gomes, R...</td>\n",
       "      <td>Brazil</td>\n",
       "      <td>2020-08-14</td>\n",
       "      <td>TV-MA</td>\n",
       "      <td>4 Seasons</td>\n",
       "      <td>International TV Shows, TV Dramas, TV Sci-Fi &amp;...</td>\n",
       "      <td>In a future where the elite inhabit an island ...</td>\n",
       "    </tr>\n",
       "  </tbody>\n",
       "</table>\n",
       "</div>"
      ],
      "text/plain": [
       "  ShowID Category Title Director  \\\n",
       "0     s1  TV Show    3%      NaN   \n",
       "\n",
       "                                                Cast Country Release_Date  \\\n",
       "0  João Miguel, Bianca Comparato, Michel Gomes, R...  Brazil   2020-08-14   \n",
       "\n",
       "  Rating   Duration                                               Type  \\\n",
       "0  TV-MA  4 Seasons  International TV Shows, TV Dramas, TV Sci-Fi &...   \n",
       "\n",
       "                                         Description  \n",
       "0  In a future where the elite inhabit an island ...  "
      ]
     },
     "execution_count": 33,
     "metadata": {},
     "output_type": "execute_result"
    }
   ],
   "source": [
    "df.head(1)"
   ]
  },
  {
   "cell_type": "code",
   "execution_count": 34,
   "id": "28227764-d93d-463a-8576-a9629460577d",
   "metadata": {},
   "outputs": [
    {
     "data": {
      "text/plain": [
       "(7787, 11)"
      ]
     },
     "execution_count": 34,
     "metadata": {},
     "output_type": "execute_result"
    }
   ],
   "source": [
    "# Shape of the original DataFrame\n",
    "df.shape"
   ]
  },
  {
   "cell_type": "code",
   "execution_count": 35,
   "id": "ca868968-1d42-4551-9547-d5ff797d4e25",
   "metadata": {},
   "outputs": [],
   "source": [
    "# Create df1 by dropping rows with null values in the 'Cast' column\n",
    "df1=df.dropna(subset=['Cast'],axis=0)"
   ]
  },
  {
   "cell_type": "code",
   "execution_count": 36,
   "id": "3cb3475d-2a6f-49df-84fd-081de5bdf25b",
   "metadata": {},
   "outputs": [
    {
     "data": {
      "text/plain": [
       "(7069, 11)"
      ]
     },
     "execution_count": 36,
     "metadata": {},
     "output_type": "execute_result"
    }
   ],
   "source": [
    "# Shape of the new DataFrame (df1)\n",
    "df1.shape"
   ]
  },
  {
   "cell_type": "code",
   "execution_count": 37,
   "id": "5f26dc18-6ed6-486c-89b3-7fa04a8041eb",
   "metadata": {},
   "outputs": [
    {
     "data": {
      "text/html": [
       "<div>\n",
       "<style scoped>\n",
       "    .dataframe tbody tr th:only-of-type {\n",
       "        vertical-align: middle;\n",
       "    }\n",
       "\n",
       "    .dataframe tbody tr th {\n",
       "        vertical-align: top;\n",
       "    }\n",
       "\n",
       "    .dataframe thead th {\n",
       "        text-align: right;\n",
       "    }\n",
       "</style>\n",
       "<table border=\"1\" class=\"dataframe\">\n",
       "  <thead>\n",
       "    <tr style=\"text-align: right;\">\n",
       "      <th></th>\n",
       "      <th>ShowID</th>\n",
       "      <th>Category</th>\n",
       "      <th>Title</th>\n",
       "      <th>Director</th>\n",
       "      <th>Cast</th>\n",
       "      <th>Country</th>\n",
       "      <th>Release_Date</th>\n",
       "      <th>Rating</th>\n",
       "      <th>Duration</th>\n",
       "      <th>Type</th>\n",
       "      <th>Description</th>\n",
       "    </tr>\n",
       "  </thead>\n",
       "  <tbody>\n",
       "    <tr>\n",
       "      <th>3860</th>\n",
       "      <td>s3861</td>\n",
       "      <td>Movie</td>\n",
       "      <td>Magnolia</td>\n",
       "      <td>Paul Thomas Anderson</td>\n",
       "      <td>Jeremy Blackman, Tom Cruise, Melinda Dillon, A...</td>\n",
       "      <td>United States</td>\n",
       "      <td>2020-01-01</td>\n",
       "      <td>R</td>\n",
       "      <td>189 min</td>\n",
       "      <td>Dramas, Independent Movies</td>\n",
       "      <td>Through chance, human action, past history and...</td>\n",
       "    </tr>\n",
       "    <tr>\n",
       "      <th>5070</th>\n",
       "      <td>s5071</td>\n",
       "      <td>Movie</td>\n",
       "      <td>Rain Man</td>\n",
       "      <td>Barry Levinson</td>\n",
       "      <td>Dustin Hoffman, Tom Cruise, Valeria Golino, Ge...</td>\n",
       "      <td>United States</td>\n",
       "      <td>2019-07-01</td>\n",
       "      <td>R</td>\n",
       "      <td>134 min</td>\n",
       "      <td>Classic Movies, Dramas</td>\n",
       "      <td>A fast-talking yuppie is forced to slow down w...</td>\n",
       "    </tr>\n",
       "  </tbody>\n",
       "</table>\n",
       "</div>"
      ],
      "text/plain": [
       "     ShowID Category     Title              Director  \\\n",
       "3860  s3861    Movie  Magnolia  Paul Thomas Anderson   \n",
       "5070  s5071    Movie  Rain Man        Barry Levinson   \n",
       "\n",
       "                                                   Cast        Country  \\\n",
       "3860  Jeremy Blackman, Tom Cruise, Melinda Dillon, A...  United States   \n",
       "5070  Dustin Hoffman, Tom Cruise, Valeria Golino, Ge...  United States   \n",
       "\n",
       "     Release_Date Rating Duration                        Type  \\\n",
       "3860   2020-01-01      R  189 min  Dramas, Independent Movies   \n",
       "5070   2019-07-01      R  134 min      Classic Movies, Dramas   \n",
       "\n",
       "                                            Description  \n",
       "3860  Through chance, human action, past history and...  \n",
       "5070  A fast-talking yuppie is forced to slow down w...  "
      ]
     },
     "execution_count": 37,
     "metadata": {},
     "output_type": "execute_result"
    }
   ],
   "source": [
    "df1[df1.Cast.str.contains('Tom Cruise')]"
   ]
  },
  {
   "cell_type": "markdown",
   "id": "84aa4e9e-f9bc-4c43-90c1-732574f22e9f",
   "metadata": {
    "tags": []
   },
   "source": [
    "## 9) What are the different Ratings defined by Netflix ?"
   ]
  },
  {
   "cell_type": "code",
   "execution_count": 38,
   "id": "49bad9ae-eaf8-4263-af71-b5c02d094e7b",
   "metadata": {},
   "outputs": [
    {
     "data": {
      "text/html": [
       "<div>\n",
       "<style scoped>\n",
       "    .dataframe tbody tr th:only-of-type {\n",
       "        vertical-align: middle;\n",
       "    }\n",
       "\n",
       "    .dataframe tbody tr th {\n",
       "        vertical-align: top;\n",
       "    }\n",
       "\n",
       "    .dataframe thead th {\n",
       "        text-align: right;\n",
       "    }\n",
       "</style>\n",
       "<table border=\"1\" class=\"dataframe\">\n",
       "  <thead>\n",
       "    <tr style=\"text-align: right;\">\n",
       "      <th></th>\n",
       "      <th>ShowID</th>\n",
       "      <th>Category</th>\n",
       "      <th>Title</th>\n",
       "      <th>Director</th>\n",
       "      <th>Cast</th>\n",
       "      <th>Country</th>\n",
       "      <th>Release_Date</th>\n",
       "      <th>Rating</th>\n",
       "      <th>Duration</th>\n",
       "      <th>Type</th>\n",
       "      <th>Description</th>\n",
       "    </tr>\n",
       "  </thead>\n",
       "  <tbody>\n",
       "    <tr>\n",
       "      <th>0</th>\n",
       "      <td>s1</td>\n",
       "      <td>TV Show</td>\n",
       "      <td>3%</td>\n",
       "      <td>NaN</td>\n",
       "      <td>João Miguel, Bianca Comparato, Michel Gomes, R...</td>\n",
       "      <td>Brazil</td>\n",
       "      <td>2020-08-14</td>\n",
       "      <td>TV-MA</td>\n",
       "      <td>4 Seasons</td>\n",
       "      <td>International TV Shows, TV Dramas, TV Sci-Fi &amp;...</td>\n",
       "      <td>In a future where the elite inhabit an island ...</td>\n",
       "    </tr>\n",
       "  </tbody>\n",
       "</table>\n",
       "</div>"
      ],
      "text/plain": [
       "  ShowID Category Title Director  \\\n",
       "0     s1  TV Show    3%      NaN   \n",
       "\n",
       "                                                Cast Country Release_Date  \\\n",
       "0  João Miguel, Bianca Comparato, Michel Gomes, R...  Brazil   2020-08-14   \n",
       "\n",
       "  Rating   Duration                                               Type  \\\n",
       "0  TV-MA  4 Seasons  International TV Shows, TV Dramas, TV Sci-Fi &...   \n",
       "\n",
       "                                         Description  \n",
       "0  In a future where the elite inhabit an island ...  "
      ]
     },
     "execution_count": 38,
     "metadata": {},
     "output_type": "execute_result"
    }
   ],
   "source": [
    "df.head(1)"
   ]
  },
  {
   "cell_type": "code",
   "execution_count": 39,
   "id": "ce7c9a80-684d-4682-a5df-3792d93361a7",
   "metadata": {},
   "outputs": [
    {
     "data": {
      "text/plain": [
       "array(['TV-MA', 'R', 'PG-13', 'TV-14', 'TV-PG', 'NR', 'TV-G', 'TV-Y', nan,\n",
       "       'TV-Y7', 'PG', 'G', 'NC-17', 'TV-Y7-FV', 'UR'], dtype=object)"
      ]
     },
     "execution_count": 39,
     "metadata": {},
     "output_type": "execute_result"
    }
   ],
   "source": [
    "df.Rating.unique()"
   ]
  },
  {
   "cell_type": "markdown",
   "id": "05309440-460b-4e44-95c7-8b9d00a1be95",
   "metadata": {
    "tags": []
   },
   "source": [
    "## 9.1) How many Movies got the 'TV-14' rating, in Canada ?"
   ]
  },
  {
   "cell_type": "code",
   "execution_count": 40,
   "id": "72bfbc5d-ebd1-4d99-896c-3043e3d2fd10",
   "metadata": {},
   "outputs": [
    {
     "data": {
      "text/html": [
       "<div>\n",
       "<style scoped>\n",
       "    .dataframe tbody tr th:only-of-type {\n",
       "        vertical-align: middle;\n",
       "    }\n",
       "\n",
       "    .dataframe tbody tr th {\n",
       "        vertical-align: top;\n",
       "    }\n",
       "\n",
       "    .dataframe thead th {\n",
       "        text-align: right;\n",
       "    }\n",
       "</style>\n",
       "<table border=\"1\" class=\"dataframe\">\n",
       "  <thead>\n",
       "    <tr style=\"text-align: right;\">\n",
       "      <th></th>\n",
       "      <th>ShowID</th>\n",
       "      <th>Category</th>\n",
       "      <th>Title</th>\n",
       "      <th>Director</th>\n",
       "      <th>Cast</th>\n",
       "      <th>Country</th>\n",
       "      <th>Release_Date</th>\n",
       "      <th>Rating</th>\n",
       "      <th>Duration</th>\n",
       "      <th>Type</th>\n",
       "      <th>Description</th>\n",
       "    </tr>\n",
       "  </thead>\n",
       "  <tbody>\n",
       "    <tr>\n",
       "      <th>0</th>\n",
       "      <td>s1</td>\n",
       "      <td>TV Show</td>\n",
       "      <td>3%</td>\n",
       "      <td>NaN</td>\n",
       "      <td>João Miguel, Bianca Comparato, Michel Gomes, R...</td>\n",
       "      <td>Brazil</td>\n",
       "      <td>2020-08-14</td>\n",
       "      <td>TV-MA</td>\n",
       "      <td>4 Seasons</td>\n",
       "      <td>International TV Shows, TV Dramas, TV Sci-Fi &amp;...</td>\n",
       "      <td>In a future where the elite inhabit an island ...</td>\n",
       "    </tr>\n",
       "  </tbody>\n",
       "</table>\n",
       "</div>"
      ],
      "text/plain": [
       "  ShowID Category Title Director  \\\n",
       "0     s1  TV Show    3%      NaN   \n",
       "\n",
       "                                                Cast Country Release_Date  \\\n",
       "0  João Miguel, Bianca Comparato, Michel Gomes, R...  Brazil   2020-08-14   \n",
       "\n",
       "  Rating   Duration                                               Type  \\\n",
       "0  TV-MA  4 Seasons  International TV Shows, TV Dramas, TV Sci-Fi &...   \n",
       "\n",
       "                                         Description  \n",
       "0  In a future where the elite inhabit an island ...  "
      ]
     },
     "execution_count": 40,
     "metadata": {},
     "output_type": "execute_result"
    }
   ],
   "source": [
    "df.head(1)"
   ]
  },
  {
   "cell_type": "code",
   "execution_count": 41,
   "id": "898de1f1-2071-4f6c-aa13-4f2d3cde650e",
   "metadata": {},
   "outputs": [
    {
     "data": {
      "text/plain": [
       "11"
      ]
     },
     "execution_count": 41,
     "metadata": {},
     "output_type": "execute_result"
    }
   ],
   "source": [
    "df[(df.Category=='Movie')&(df.Rating=='TV-14')&(df.Country=='Canada')].shape[0]"
   ]
  },
  {
   "cell_type": "markdown",
   "id": "4de69630-5bc6-4a15-ba39-c480e43b7af0",
   "metadata": {
    "jp-MarkdownHeadingCollapsed": true,
    "tags": []
   },
   "source": [
    "## 9.2) How many TV Shows got the 'R' rating, after year 2018 ?"
   ]
  },
  {
   "cell_type": "code",
   "execution_count": 42,
   "id": "4f3ae620-9777-4ed8-a33a-1e23c8fad07f",
   "metadata": {},
   "outputs": [
    {
     "data": {
      "text/html": [
       "<div>\n",
       "<style scoped>\n",
       "    .dataframe tbody tr th:only-of-type {\n",
       "        vertical-align: middle;\n",
       "    }\n",
       "\n",
       "    .dataframe tbody tr th {\n",
       "        vertical-align: top;\n",
       "    }\n",
       "\n",
       "    .dataframe thead th {\n",
       "        text-align: right;\n",
       "    }\n",
       "</style>\n",
       "<table border=\"1\" class=\"dataframe\">\n",
       "  <thead>\n",
       "    <tr style=\"text-align: right;\">\n",
       "      <th></th>\n",
       "      <th>ShowID</th>\n",
       "      <th>Category</th>\n",
       "      <th>Title</th>\n",
       "      <th>Director</th>\n",
       "      <th>Cast</th>\n",
       "      <th>Country</th>\n",
       "      <th>Release_Date</th>\n",
       "      <th>Rating</th>\n",
       "      <th>Duration</th>\n",
       "      <th>Type</th>\n",
       "      <th>Description</th>\n",
       "    </tr>\n",
       "  </thead>\n",
       "  <tbody>\n",
       "    <tr>\n",
       "      <th>0</th>\n",
       "      <td>s1</td>\n",
       "      <td>TV Show</td>\n",
       "      <td>3%</td>\n",
       "      <td>NaN</td>\n",
       "      <td>João Miguel, Bianca Comparato, Michel Gomes, R...</td>\n",
       "      <td>Brazil</td>\n",
       "      <td>2020-08-14</td>\n",
       "      <td>TV-MA</td>\n",
       "      <td>4 Seasons</td>\n",
       "      <td>International TV Shows, TV Dramas, TV Sci-Fi &amp;...</td>\n",
       "      <td>In a future where the elite inhabit an island ...</td>\n",
       "    </tr>\n",
       "  </tbody>\n",
       "</table>\n",
       "</div>"
      ],
      "text/plain": [
       "  ShowID Category Title Director  \\\n",
       "0     s1  TV Show    3%      NaN   \n",
       "\n",
       "                                                Cast Country Release_Date  \\\n",
       "0  João Miguel, Bianca Comparato, Michel Gomes, R...  Brazil   2020-08-14   \n",
       "\n",
       "  Rating   Duration                                               Type  \\\n",
       "0  TV-MA  4 Seasons  International TV Shows, TV Dramas, TV Sci-Fi &...   \n",
       "\n",
       "                                         Description  \n",
       "0  In a future where the elite inhabit an island ...  "
      ]
     },
     "execution_count": 42,
     "metadata": {},
     "output_type": "execute_result"
    }
   ],
   "source": [
    "df.head(1)"
   ]
  },
  {
   "cell_type": "code",
   "execution_count": 43,
   "id": "3ce8babf-ac04-45a4-92d2-ff23904bee42",
   "metadata": {},
   "outputs": [
    {
     "data": {
      "text/plain": [
       "1"
      ]
     },
     "execution_count": 43,
     "metadata": {},
     "output_type": "execute_result"
    }
   ],
   "source": [
    "df[(df.Category=='TV Show')&(df.Rating=='R')&(df.Release_Date.dt.year>2018)].shape[0]"
   ]
  },
  {
   "cell_type": "markdown",
   "id": "4f0dac6a-9912-4ee1-a7a4-8a2d85f5cba8",
   "metadata": {
    "tags": []
   },
   "source": [
    "## 10) What is the maximum duration of a Movie/Show on Netflix ?"
   ]
  },
  {
   "cell_type": "code",
   "execution_count": 44,
   "id": "b6442254-b4ae-4682-b9de-42b3927feb42",
   "metadata": {},
   "outputs": [
    {
     "data": {
      "text/html": [
       "<div>\n",
       "<style scoped>\n",
       "    .dataframe tbody tr th:only-of-type {\n",
       "        vertical-align: middle;\n",
       "    }\n",
       "\n",
       "    .dataframe tbody tr th {\n",
       "        vertical-align: top;\n",
       "    }\n",
       "\n",
       "    .dataframe thead th {\n",
       "        text-align: right;\n",
       "    }\n",
       "</style>\n",
       "<table border=\"1\" class=\"dataframe\">\n",
       "  <thead>\n",
       "    <tr style=\"text-align: right;\">\n",
       "      <th></th>\n",
       "      <th>ShowID</th>\n",
       "      <th>Category</th>\n",
       "      <th>Title</th>\n",
       "      <th>Director</th>\n",
       "      <th>Cast</th>\n",
       "      <th>Country</th>\n",
       "      <th>Release_Date</th>\n",
       "      <th>Rating</th>\n",
       "      <th>Duration</th>\n",
       "      <th>Type</th>\n",
       "      <th>Description</th>\n",
       "    </tr>\n",
       "  </thead>\n",
       "  <tbody>\n",
       "    <tr>\n",
       "      <th>0</th>\n",
       "      <td>s1</td>\n",
       "      <td>TV Show</td>\n",
       "      <td>3%</td>\n",
       "      <td>NaN</td>\n",
       "      <td>João Miguel, Bianca Comparato, Michel Gomes, R...</td>\n",
       "      <td>Brazil</td>\n",
       "      <td>2020-08-14</td>\n",
       "      <td>TV-MA</td>\n",
       "      <td>4 Seasons</td>\n",
       "      <td>International TV Shows, TV Dramas, TV Sci-Fi &amp;...</td>\n",
       "      <td>In a future where the elite inhabit an island ...</td>\n",
       "    </tr>\n",
       "    <tr>\n",
       "      <th>1</th>\n",
       "      <td>s2</td>\n",
       "      <td>Movie</td>\n",
       "      <td>7:19</td>\n",
       "      <td>Jorge Michel Grau</td>\n",
       "      <td>Demián Bichir, Héctor Bonilla, Oscar Serrano, ...</td>\n",
       "      <td>Mexico</td>\n",
       "      <td>2016-12-23</td>\n",
       "      <td>TV-MA</td>\n",
       "      <td>93 min</td>\n",
       "      <td>Dramas, International Movies</td>\n",
       "      <td>After a devastating earthquake hits Mexico Cit...</td>\n",
       "    </tr>\n",
       "  </tbody>\n",
       "</table>\n",
       "</div>"
      ],
      "text/plain": [
       "  ShowID Category Title           Director  \\\n",
       "0     s1  TV Show    3%                NaN   \n",
       "1     s2    Movie  7:19  Jorge Michel Grau   \n",
       "\n",
       "                                                Cast Country Release_Date  \\\n",
       "0  João Miguel, Bianca Comparato, Michel Gomes, R...  Brazil   2020-08-14   \n",
       "1  Demián Bichir, Héctor Bonilla, Oscar Serrano, ...  Mexico   2016-12-23   \n",
       "\n",
       "  Rating   Duration                                               Type  \\\n",
       "0  TV-MA  4 Seasons  International TV Shows, TV Dramas, TV Sci-Fi &...   \n",
       "1  TV-MA     93 min                       Dramas, International Movies   \n",
       "\n",
       "                                         Description  \n",
       "0  In a future where the elite inhabit an island ...  \n",
       "1  After a devastating earthquake hits Mexico Cit...  "
      ]
     },
     "execution_count": 44,
     "metadata": {},
     "output_type": "execute_result"
    }
   ],
   "source": [
    "df.head(2)"
   ]
  },
  {
   "cell_type": "code",
   "execution_count": 45,
   "id": "e2e6a729-845d-449d-9ee2-a992a1f1b872",
   "metadata": {},
   "outputs": [
    {
     "data": {
      "text/html": [
       "<div>\n",
       "<style scoped>\n",
       "    .dataframe tbody tr th:only-of-type {\n",
       "        vertical-align: middle;\n",
       "    }\n",
       "\n",
       "    .dataframe tbody tr th {\n",
       "        vertical-align: top;\n",
       "    }\n",
       "\n",
       "    .dataframe thead th {\n",
       "        text-align: right;\n",
       "    }\n",
       "</style>\n",
       "<table border=\"1\" class=\"dataframe\">\n",
       "  <thead>\n",
       "    <tr style=\"text-align: right;\">\n",
       "      <th></th>\n",
       "      <th>ShowID</th>\n",
       "      <th>Category</th>\n",
       "      <th>Title</th>\n",
       "      <th>Director</th>\n",
       "      <th>Cast</th>\n",
       "      <th>Country</th>\n",
       "      <th>Release_Date</th>\n",
       "      <th>Rating</th>\n",
       "      <th>Duration</th>\n",
       "      <th>Type</th>\n",
       "      <th>Description</th>\n",
       "      <th>Duration_N</th>\n",
       "      <th>Duration_Unit</th>\n",
       "    </tr>\n",
       "  </thead>\n",
       "  <tbody>\n",
       "    <tr>\n",
       "      <th>0</th>\n",
       "      <td>s1</td>\n",
       "      <td>TV Show</td>\n",
       "      <td>3%</td>\n",
       "      <td>NaN</td>\n",
       "      <td>João Miguel, Bianca Comparato, Michel Gomes, R...</td>\n",
       "      <td>Brazil</td>\n",
       "      <td>2020-08-14</td>\n",
       "      <td>TV-MA</td>\n",
       "      <td>4 Seasons</td>\n",
       "      <td>International TV Shows, TV Dramas, TV Sci-Fi &amp;...</td>\n",
       "      <td>In a future where the elite inhabit an island ...</td>\n",
       "      <td>4</td>\n",
       "      <td>Seasons</td>\n",
       "    </tr>\n",
       "    <tr>\n",
       "      <th>1</th>\n",
       "      <td>s2</td>\n",
       "      <td>Movie</td>\n",
       "      <td>7:19</td>\n",
       "      <td>Jorge Michel Grau</td>\n",
       "      <td>Demián Bichir, Héctor Bonilla, Oscar Serrano, ...</td>\n",
       "      <td>Mexico</td>\n",
       "      <td>2016-12-23</td>\n",
       "      <td>TV-MA</td>\n",
       "      <td>93 min</td>\n",
       "      <td>Dramas, International Movies</td>\n",
       "      <td>After a devastating earthquake hits Mexico Cit...</td>\n",
       "      <td>93</td>\n",
       "      <td>min</td>\n",
       "    </tr>\n",
       "  </tbody>\n",
       "</table>\n",
       "</div>"
      ],
      "text/plain": [
       "  ShowID Category Title           Director  \\\n",
       "0     s1  TV Show    3%                NaN   \n",
       "1     s2    Movie  7:19  Jorge Michel Grau   \n",
       "\n",
       "                                                Cast Country Release_Date  \\\n",
       "0  João Miguel, Bianca Comparato, Michel Gomes, R...  Brazil   2020-08-14   \n",
       "1  Demián Bichir, Héctor Bonilla, Oscar Serrano, ...  Mexico   2016-12-23   \n",
       "\n",
       "  Rating   Duration                                               Type  \\\n",
       "0  TV-MA  4 Seasons  International TV Shows, TV Dramas, TV Sci-Fi &...   \n",
       "1  TV-MA     93 min                       Dramas, International Movies   \n",
       "\n",
       "                                         Description Duration_N Duration_Unit  \n",
       "0  In a future where the elite inhabit an island ...          4       Seasons  \n",
       "1  After a devastating earthquake hits Mexico Cit...         93           min  "
      ]
     },
     "execution_count": 45,
     "metadata": {},
     "output_type": "execute_result"
    }
   ],
   "source": [
    "# Split 'Duration' column into 'Duration_N' (numeric part) and 'Duration_Unit' (unit part)\n",
    "df[['Duration_N','Duration_Unit']]=df.Duration.str.split(' ',expand=True)\n",
    "\n",
    "df.head(2)"
   ]
  },
  {
   "cell_type": "code",
   "execution_count": 46,
   "id": "12469d41-0b07-4216-b52d-f83387aced6e",
   "metadata": {},
   "outputs": [
    {
     "data": {
      "text/plain": [
       "dtype('O')"
      ]
     },
     "execution_count": 46,
     "metadata": {},
     "output_type": "execute_result"
    }
   ],
   "source": [
    "# Check data type of the 'Duration_N' column\n",
    "df.Duration_N.dtypes"
   ]
  },
  {
   "cell_type": "code",
   "execution_count": 47,
   "id": "611927dc-9dec-4dd2-ba13-728f997f8796",
   "metadata": {},
   "outputs": [
    {
     "data": {
      "text/plain": [
       "array(['TV Show', 'Movie'], dtype=object)"
      ]
     },
     "execution_count": 47,
     "metadata": {},
     "output_type": "execute_result"
    }
   ],
   "source": [
    "# Convert the 'Duration_N' column to integer data type\n",
    "df.Duration_N=df.Duration_N.astype(int)\n",
    "\n",
    "# Unique values in the 'Category' column\n",
    "df.Category.unique()"
   ]
  },
  {
   "cell_type": "code",
   "execution_count": 48,
   "id": "495b6ac0-c720-4199-86cd-fd1496e66727",
   "metadata": {},
   "outputs": [
    {
     "name": "stdout",
     "output_type": "stream",
     "text": [
      "Max Duration for Movie:  [312 'min'] \n",
      "Max Season for TV Show:  [16 'Seasons']\n"
     ]
    }
   ],
   "source": [
    "# Create separate DataFrames for TV Shows and Movies\n",
    "tvshow=df.groupby('Category').get_group('TV Show')\n",
    "movie=df.groupby('Category').get_group('Movie')\n",
    "\n",
    "# Maximum duration values for Movies and TV Shows\n",
    "print('Max Duration for Movie: ',movie[['Duration_N','Duration_Unit']].max().values,\n",
    "      '\\nMax Season for TV Show: ',tvshow[['Duration_N','Duration_Unit']].max().values)"
   ]
  },
  {
   "cell_type": "markdown",
   "id": "aa890ca5-07f4-41a7-b202-0dddc0c6984c",
   "metadata": {
    "tags": []
   },
   "source": [
    "## 11) Which individual country has the Highest No. of TV Shows ?"
   ]
  },
  {
   "cell_type": "code",
   "execution_count": 49,
   "id": "20785d4f-40fb-4b0d-8df2-5452f7c91642",
   "metadata": {},
   "outputs": [
    {
     "data": {
      "text/html": [
       "<div>\n",
       "<style scoped>\n",
       "    .dataframe tbody tr th:only-of-type {\n",
       "        vertical-align: middle;\n",
       "    }\n",
       "\n",
       "    .dataframe tbody tr th {\n",
       "        vertical-align: top;\n",
       "    }\n",
       "\n",
       "    .dataframe thead th {\n",
       "        text-align: right;\n",
       "    }\n",
       "</style>\n",
       "<table border=\"1\" class=\"dataframe\">\n",
       "  <thead>\n",
       "    <tr style=\"text-align: right;\">\n",
       "      <th></th>\n",
       "      <th>ShowID</th>\n",
       "      <th>Category</th>\n",
       "      <th>Title</th>\n",
       "      <th>Director</th>\n",
       "      <th>Cast</th>\n",
       "      <th>Country</th>\n",
       "      <th>Release_Date</th>\n",
       "      <th>Rating</th>\n",
       "      <th>Duration</th>\n",
       "      <th>Type</th>\n",
       "      <th>Description</th>\n",
       "      <th>Duration_N</th>\n",
       "      <th>Duration_Unit</th>\n",
       "    </tr>\n",
       "  </thead>\n",
       "  <tbody>\n",
       "    <tr>\n",
       "      <th>0</th>\n",
       "      <td>s1</td>\n",
       "      <td>TV Show</td>\n",
       "      <td>3%</td>\n",
       "      <td>NaN</td>\n",
       "      <td>João Miguel, Bianca Comparato, Michel Gomes, R...</td>\n",
       "      <td>Brazil</td>\n",
       "      <td>2020-08-14</td>\n",
       "      <td>TV-MA</td>\n",
       "      <td>4 Seasons</td>\n",
       "      <td>International TV Shows, TV Dramas, TV Sci-Fi &amp;...</td>\n",
       "      <td>In a future where the elite inhabit an island ...</td>\n",
       "      <td>4</td>\n",
       "      <td>Seasons</td>\n",
       "    </tr>\n",
       "  </tbody>\n",
       "</table>\n",
       "</div>"
      ],
      "text/plain": [
       "  ShowID Category Title Director  \\\n",
       "0     s1  TV Show    3%      NaN   \n",
       "\n",
       "                                                Cast Country Release_Date  \\\n",
       "0  João Miguel, Bianca Comparato, Michel Gomes, R...  Brazil   2020-08-14   \n",
       "\n",
       "  Rating   Duration                                               Type  \\\n",
       "0  TV-MA  4 Seasons  International TV Shows, TV Dramas, TV Sci-Fi &...   \n",
       "\n",
       "                                         Description  Duration_N Duration_Unit  \n",
       "0  In a future where the elite inhabit an island ...           4       Seasons  "
      ]
     },
     "execution_count": 49,
     "metadata": {},
     "output_type": "execute_result"
    }
   ],
   "source": [
    "df.head(1)"
   ]
  },
  {
   "cell_type": "code",
   "execution_count": 50,
   "id": "ed4325db-ee26-4978-a813-f532c55f29de",
   "metadata": {},
   "outputs": [
    {
     "data": {
      "text/plain": [
       "Country\n",
       "United States    705\n",
       "Name: count, dtype: int64"
      ]
     },
     "execution_count": 50,
     "metadata": {},
     "output_type": "execute_result"
    }
   ],
   "source": [
    "df[(df.Category=='TV Show')].Country.value_counts().head(1)"
   ]
  },
  {
   "cell_type": "markdown",
   "id": "dfdcfe57-4277-4148-8dd4-a01fe46e0961",
   "metadata": {
    "tags": []
   },
   "source": [
    "## 12) How can we sort the dataset by Year ?"
   ]
  },
  {
   "cell_type": "code",
   "execution_count": 51,
   "id": "4ed700d8-d566-4dd2-b0aa-383dbdbbccd0",
   "metadata": {},
   "outputs": [
    {
     "data": {
      "text/html": [
       "<div>\n",
       "<style scoped>\n",
       "    .dataframe tbody tr th:only-of-type {\n",
       "        vertical-align: middle;\n",
       "    }\n",
       "\n",
       "    .dataframe tbody tr th {\n",
       "        vertical-align: top;\n",
       "    }\n",
       "\n",
       "    .dataframe thead th {\n",
       "        text-align: right;\n",
       "    }\n",
       "</style>\n",
       "<table border=\"1\" class=\"dataframe\">\n",
       "  <thead>\n",
       "    <tr style=\"text-align: right;\">\n",
       "      <th></th>\n",
       "      <th>ShowID</th>\n",
       "      <th>Category</th>\n",
       "      <th>Title</th>\n",
       "      <th>Director</th>\n",
       "      <th>Cast</th>\n",
       "      <th>Country</th>\n",
       "      <th>Release_Date</th>\n",
       "      <th>Rating</th>\n",
       "      <th>Duration</th>\n",
       "      <th>Type</th>\n",
       "      <th>Description</th>\n",
       "      <th>Duration_N</th>\n",
       "      <th>Duration_Unit</th>\n",
       "    </tr>\n",
       "  </thead>\n",
       "  <tbody>\n",
       "    <tr>\n",
       "      <th>0</th>\n",
       "      <td>s1</td>\n",
       "      <td>TV Show</td>\n",
       "      <td>3%</td>\n",
       "      <td>NaN</td>\n",
       "      <td>João Miguel, Bianca Comparato, Michel Gomes, R...</td>\n",
       "      <td>Brazil</td>\n",
       "      <td>2020-08-14</td>\n",
       "      <td>TV-MA</td>\n",
       "      <td>4 Seasons</td>\n",
       "      <td>International TV Shows, TV Dramas, TV Sci-Fi &amp;...</td>\n",
       "      <td>In a future where the elite inhabit an island ...</td>\n",
       "      <td>4</td>\n",
       "      <td>Seasons</td>\n",
       "    </tr>\n",
       "  </tbody>\n",
       "</table>\n",
       "</div>"
      ],
      "text/plain": [
       "  ShowID Category Title Director  \\\n",
       "0     s1  TV Show    3%      NaN   \n",
       "\n",
       "                                                Cast Country Release_Date  \\\n",
       "0  João Miguel, Bianca Comparato, Michel Gomes, R...  Brazil   2020-08-14   \n",
       "\n",
       "  Rating   Duration                                               Type  \\\n",
       "0  TV-MA  4 Seasons  International TV Shows, TV Dramas, TV Sci-Fi &...   \n",
       "\n",
       "                                         Description  Duration_N Duration_Unit  \n",
       "0  In a future where the elite inhabit an island ...           4       Seasons  "
      ]
     },
     "execution_count": 51,
     "metadata": {},
     "output_type": "execute_result"
    }
   ],
   "source": [
    "df.head(1)"
   ]
  },
  {
   "cell_type": "code",
   "execution_count": 52,
   "id": "e8ebd491-d0b6-4d3b-8664-fd51ed78f450",
   "metadata": {},
   "outputs": [
    {
     "data": {
      "text/html": [
       "<div>\n",
       "<style scoped>\n",
       "    .dataframe tbody tr th:only-of-type {\n",
       "        vertical-align: middle;\n",
       "    }\n",
       "\n",
       "    .dataframe tbody tr th {\n",
       "        vertical-align: top;\n",
       "    }\n",
       "\n",
       "    .dataframe thead th {\n",
       "        text-align: right;\n",
       "    }\n",
       "</style>\n",
       "<table border=\"1\" class=\"dataframe\">\n",
       "  <thead>\n",
       "    <tr style=\"text-align: right;\">\n",
       "      <th></th>\n",
       "      <th>ShowID</th>\n",
       "      <th>Category</th>\n",
       "      <th>Title</th>\n",
       "      <th>Director</th>\n",
       "      <th>Cast</th>\n",
       "      <th>Country</th>\n",
       "      <th>Release_Date</th>\n",
       "      <th>Rating</th>\n",
       "      <th>Duration</th>\n",
       "      <th>Type</th>\n",
       "      <th>Description</th>\n",
       "      <th>Duration_N</th>\n",
       "      <th>Duration_Unit</th>\n",
       "    </tr>\n",
       "  </thead>\n",
       "  <tbody>\n",
       "    <tr>\n",
       "      <th>5059</th>\n",
       "      <td>s5060</td>\n",
       "      <td>Movie</td>\n",
       "      <td>Radium Girls</td>\n",
       "      <td>Lydia Dean Pilcher, Ginny Mohler</td>\n",
       "      <td>Joey King, Abby Quinn, Cara Seymour, Scott She...</td>\n",
       "      <td>United States</td>\n",
       "      <td>2021-01-16</td>\n",
       "      <td>TV-14</td>\n",
       "      <td>103 min</td>\n",
       "      <td>Dramas, Independent Movies</td>\n",
       "      <td>When the women at a radium factory begin to fa...</td>\n",
       "      <td>103</td>\n",
       "      <td>min</td>\n",
       "    </tr>\n",
       "    <tr>\n",
       "      <th>205</th>\n",
       "      <td>s206</td>\n",
       "      <td>Movie</td>\n",
       "      <td>A Monster Calls</td>\n",
       "      <td>J.A. Bayona</td>\n",
       "      <td>Lewis MacDougall, Sigourney Weaver, Felicity J...</td>\n",
       "      <td>United Kingdom, Spain, United States</td>\n",
       "      <td>2021-01-16</td>\n",
       "      <td>PG-13</td>\n",
       "      <td>108 min</td>\n",
       "      <td>Dramas, Sci-Fi &amp; Fantasy</td>\n",
       "      <td>Overwhelmed by his mother’s illness, a young b...</td>\n",
       "      <td>108</td>\n",
       "      <td>min</td>\n",
       "    </tr>\n",
       "    <tr>\n",
       "      <th>1673</th>\n",
       "      <td>s1674</td>\n",
       "      <td>Movie</td>\n",
       "      <td>Death of Me</td>\n",
       "      <td>Darren Lynn Bousman</td>\n",
       "      <td>Maggie Q, Luke Hemsworth, Alex Essoe, Ingkarat...</td>\n",
       "      <td>United States, Thailand</td>\n",
       "      <td>2021-01-16</td>\n",
       "      <td>R</td>\n",
       "      <td>94 min</td>\n",
       "      <td>Horror Movies</td>\n",
       "      <td>With no memory of the previous night, a vacati...</td>\n",
       "      <td>94</td>\n",
       "      <td>min</td>\n",
       "    </tr>\n",
       "    <tr>\n",
       "      <th>7569</th>\n",
       "      <td>s7570</td>\n",
       "      <td>Movie</td>\n",
       "      <td>What Would Sophia Loren Do?</td>\n",
       "      <td>Ross Kauffman</td>\n",
       "      <td>Nancy \"Vincenza Careri\" Kulik, Sophia Loren</td>\n",
       "      <td>United States</td>\n",
       "      <td>2021-01-15</td>\n",
       "      <td>TV-14</td>\n",
       "      <td>32 min</td>\n",
       "      <td>Documentaries</td>\n",
       "      <td>In this delightful short documentary, an Itali...</td>\n",
       "      <td>32</td>\n",
       "      <td>min</td>\n",
       "    </tr>\n",
       "    <tr>\n",
       "      <th>6634</th>\n",
       "      <td>s6635</td>\n",
       "      <td>TV Show</td>\n",
       "      <td>The Magicians</td>\n",
       "      <td>NaN</td>\n",
       "      <td>Jason Ralph, Arjun Gupta, Hale Appleman, Stell...</td>\n",
       "      <td>United States, Canada</td>\n",
       "      <td>2021-01-15</td>\n",
       "      <td>TV-MA</td>\n",
       "      <td>5 Seasons</td>\n",
       "      <td>TV Dramas, TV Sci-Fi &amp; Fantasy</td>\n",
       "      <td>When grad student Quentin Coldwater enters a c...</td>\n",
       "      <td>5</td>\n",
       "      <td>Seasons</td>\n",
       "    </tr>\n",
       "    <tr>\n",
       "      <th>...</th>\n",
       "      <td>...</td>\n",
       "      <td>...</td>\n",
       "      <td>...</td>\n",
       "      <td>...</td>\n",
       "      <td>...</td>\n",
       "      <td>...</td>\n",
       "      <td>...</td>\n",
       "      <td>...</td>\n",
       "      <td>...</td>\n",
       "      <td>...</td>\n",
       "      <td>...</td>\n",
       "      <td>...</td>\n",
       "      <td>...</td>\n",
       "    </tr>\n",
       "    <tr>\n",
       "      <th>6950</th>\n",
       "      <td>s6951</td>\n",
       "      <td>TV Show</td>\n",
       "      <td>The Tudors</td>\n",
       "      <td>NaN</td>\n",
       "      <td>Jonathan Rhys Meyers, Henry Cavill, James Frai...</td>\n",
       "      <td>Ireland, Canada, United States, United Kingdom</td>\n",
       "      <td>NaT</td>\n",
       "      <td>TV-MA</td>\n",
       "      <td>4 Seasons</td>\n",
       "      <td>TV Dramas</td>\n",
       "      <td>All the splendor and scandal of England's 16th...</td>\n",
       "      <td>4</td>\n",
       "      <td>Seasons</td>\n",
       "    </tr>\n",
       "    <tr>\n",
       "      <th>6996</th>\n",
       "      <td>s6997</td>\n",
       "      <td>TV Show</td>\n",
       "      <td>The West Wing</td>\n",
       "      <td>NaN</td>\n",
       "      <td>Martin Sheen, Rob Lowe, Allison Janney, John S...</td>\n",
       "      <td>United States</td>\n",
       "      <td>NaT</td>\n",
       "      <td>TV-14</td>\n",
       "      <td>7 Seasons</td>\n",
       "      <td>TV Dramas</td>\n",
       "      <td>This powerful political epic chronicles the tr...</td>\n",
       "      <td>7</td>\n",
       "      <td>Seasons</td>\n",
       "    </tr>\n",
       "    <tr>\n",
       "      <th>7446</th>\n",
       "      <td>s7447</td>\n",
       "      <td>TV Show</td>\n",
       "      <td>Vroomiz</td>\n",
       "      <td>NaN</td>\n",
       "      <td>Joon-seok Song, Jeong-hwa Yang, Sang-hyun Um, ...</td>\n",
       "      <td>South Korea</td>\n",
       "      <td>NaT</td>\n",
       "      <td>TV-Y</td>\n",
       "      <td>3 Seasons</td>\n",
       "      <td>Kids' TV, Korean TV Shows</td>\n",
       "      <td>For these half-car, half-animal friends, each ...</td>\n",
       "      <td>3</td>\n",
       "      <td>Seasons</td>\n",
       "    </tr>\n",
       "    <tr>\n",
       "      <th>7522</th>\n",
       "      <td>s7523</td>\n",
       "      <td>TV Show</td>\n",
       "      <td>Weird Wonders of the World</td>\n",
       "      <td>NaN</td>\n",
       "      <td>Chris Packham</td>\n",
       "      <td>United Kingdom</td>\n",
       "      <td>NaT</td>\n",
       "      <td>TV-PG</td>\n",
       "      <td>2 Seasons</td>\n",
       "      <td>British TV Shows, Docuseries, Science &amp; Nature TV</td>\n",
       "      <td>From animal oddities and bizarre science to me...</td>\n",
       "      <td>2</td>\n",
       "      <td>Seasons</td>\n",
       "    </tr>\n",
       "    <tr>\n",
       "      <th>7653</th>\n",
       "      <td>s7654</td>\n",
       "      <td>TV Show</td>\n",
       "      <td>Women Behind Bars</td>\n",
       "      <td>NaN</td>\n",
       "      <td>NaN</td>\n",
       "      <td>United States</td>\n",
       "      <td>NaT</td>\n",
       "      <td>TV-14</td>\n",
       "      <td>3 Seasons</td>\n",
       "      <td>Crime TV Shows, Docuseries</td>\n",
       "      <td>This reality series recounts true stories of w...</td>\n",
       "      <td>3</td>\n",
       "      <td>Seasons</td>\n",
       "    </tr>\n",
       "  </tbody>\n",
       "</table>\n",
       "<p>7787 rows × 13 columns</p>\n",
       "</div>"
      ],
      "text/plain": [
       "     ShowID Category                        Title  \\\n",
       "5059  s5060    Movie                 Radium Girls   \n",
       "205    s206    Movie              A Monster Calls   \n",
       "1673  s1674    Movie                  Death of Me   \n",
       "7569  s7570    Movie  What Would Sophia Loren Do?   \n",
       "6634  s6635  TV Show                The Magicians   \n",
       "...     ...      ...                          ...   \n",
       "6950  s6951  TV Show                   The Tudors   \n",
       "6996  s6997  TV Show                The West Wing   \n",
       "7446  s7447  TV Show                      Vroomiz   \n",
       "7522  s7523  TV Show   Weird Wonders of the World   \n",
       "7653  s7654  TV Show            Women Behind Bars   \n",
       "\n",
       "                              Director  \\\n",
       "5059  Lydia Dean Pilcher, Ginny Mohler   \n",
       "205                        J.A. Bayona   \n",
       "1673               Darren Lynn Bousman   \n",
       "7569                     Ross Kauffman   \n",
       "6634                               NaN   \n",
       "...                                ...   \n",
       "6950                               NaN   \n",
       "6996                               NaN   \n",
       "7446                               NaN   \n",
       "7522                               NaN   \n",
       "7653                               NaN   \n",
       "\n",
       "                                                   Cast  \\\n",
       "5059  Joey King, Abby Quinn, Cara Seymour, Scott She...   \n",
       "205   Lewis MacDougall, Sigourney Weaver, Felicity J...   \n",
       "1673  Maggie Q, Luke Hemsworth, Alex Essoe, Ingkarat...   \n",
       "7569        Nancy \"Vincenza Careri\" Kulik, Sophia Loren   \n",
       "6634  Jason Ralph, Arjun Gupta, Hale Appleman, Stell...   \n",
       "...                                                 ...   \n",
       "6950  Jonathan Rhys Meyers, Henry Cavill, James Frai...   \n",
       "6996  Martin Sheen, Rob Lowe, Allison Janney, John S...   \n",
       "7446  Joon-seok Song, Jeong-hwa Yang, Sang-hyun Um, ...   \n",
       "7522                                      Chris Packham   \n",
       "7653                                                NaN   \n",
       "\n",
       "                                             Country Release_Date Rating  \\\n",
       "5059                                   United States   2021-01-16  TV-14   \n",
       "205             United Kingdom, Spain, United States   2021-01-16  PG-13   \n",
       "1673                         United States, Thailand   2021-01-16      R   \n",
       "7569                                   United States   2021-01-15  TV-14   \n",
       "6634                           United States, Canada   2021-01-15  TV-MA   \n",
       "...                                              ...          ...    ...   \n",
       "6950  Ireland, Canada, United States, United Kingdom          NaT  TV-MA   \n",
       "6996                                   United States          NaT  TV-14   \n",
       "7446                                     South Korea          NaT   TV-Y   \n",
       "7522                                  United Kingdom          NaT  TV-PG   \n",
       "7653                                   United States          NaT  TV-14   \n",
       "\n",
       "       Duration                                               Type  \\\n",
       "5059    103 min                         Dramas, Independent Movies   \n",
       "205     108 min                           Dramas, Sci-Fi & Fantasy   \n",
       "1673     94 min                                      Horror Movies   \n",
       "7569     32 min                                      Documentaries   \n",
       "6634  5 Seasons                     TV Dramas, TV Sci-Fi & Fantasy   \n",
       "...         ...                                                ...   \n",
       "6950  4 Seasons                                          TV Dramas   \n",
       "6996  7 Seasons                                          TV Dramas   \n",
       "7446  3 Seasons                          Kids' TV, Korean TV Shows   \n",
       "7522  2 Seasons  British TV Shows, Docuseries, Science & Nature TV   \n",
       "7653  3 Seasons                         Crime TV Shows, Docuseries   \n",
       "\n",
       "                                            Description  Duration_N  \\\n",
       "5059  When the women at a radium factory begin to fa...         103   \n",
       "205   Overwhelmed by his mother’s illness, a young b...         108   \n",
       "1673  With no memory of the previous night, a vacati...          94   \n",
       "7569  In this delightful short documentary, an Itali...          32   \n",
       "6634  When grad student Quentin Coldwater enters a c...           5   \n",
       "...                                                 ...         ...   \n",
       "6950  All the splendor and scandal of England's 16th...           4   \n",
       "6996  This powerful political epic chronicles the tr...           7   \n",
       "7446  For these half-car, half-animal friends, each ...           3   \n",
       "7522  From animal oddities and bizarre science to me...           2   \n",
       "7653  This reality series recounts true stories of w...           3   \n",
       "\n",
       "     Duration_Unit  \n",
       "5059           min  \n",
       "205            min  \n",
       "1673           min  \n",
       "7569           min  \n",
       "6634       Seasons  \n",
       "...            ...  \n",
       "6950       Seasons  \n",
       "6996       Seasons  \n",
       "7446       Seasons  \n",
       "7522       Seasons  \n",
       "7653       Seasons  \n",
       "\n",
       "[7787 rows x 13 columns]"
      ]
     },
     "execution_count": 52,
     "metadata": {},
     "output_type": "execute_result"
    }
   ],
   "source": [
    "df.sort_values(by='Release_Date',ascending=False)"
   ]
  },
  {
   "cell_type": "markdown",
   "id": "56322402-0072-4235-84c9-2400f582b010",
   "metadata": {
    "jp-MarkdownHeadingCollapsed": true,
    "tags": []
   },
   "source": [
    "## 13) Find all the instances where: Category is 'Movie' and Type is 'Dramas' or Category is 'TV Show' & Type is 'Kids' TV'."
   ]
  },
  {
   "cell_type": "code",
   "execution_count": 53,
   "id": "87cfa9ad-e9f3-4fa3-9c5b-b6cef1aa6fe2",
   "metadata": {},
   "outputs": [
    {
     "data": {
      "text/html": [
       "<div>\n",
       "<style scoped>\n",
       "    .dataframe tbody tr th:only-of-type {\n",
       "        vertical-align: middle;\n",
       "    }\n",
       "\n",
       "    .dataframe tbody tr th {\n",
       "        vertical-align: top;\n",
       "    }\n",
       "\n",
       "    .dataframe thead th {\n",
       "        text-align: right;\n",
       "    }\n",
       "</style>\n",
       "<table border=\"1\" class=\"dataframe\">\n",
       "  <thead>\n",
       "    <tr style=\"text-align: right;\">\n",
       "      <th></th>\n",
       "      <th>ShowID</th>\n",
       "      <th>Category</th>\n",
       "      <th>Title</th>\n",
       "      <th>Director</th>\n",
       "      <th>Cast</th>\n",
       "      <th>Country</th>\n",
       "      <th>Release_Date</th>\n",
       "      <th>Rating</th>\n",
       "      <th>Duration</th>\n",
       "      <th>Type</th>\n",
       "      <th>Description</th>\n",
       "      <th>Duration_N</th>\n",
       "      <th>Duration_Unit</th>\n",
       "    </tr>\n",
       "  </thead>\n",
       "  <tbody>\n",
       "    <tr>\n",
       "      <th>0</th>\n",
       "      <td>s1</td>\n",
       "      <td>TV Show</td>\n",
       "      <td>3%</td>\n",
       "      <td>NaN</td>\n",
       "      <td>João Miguel, Bianca Comparato, Michel Gomes, R...</td>\n",
       "      <td>Brazil</td>\n",
       "      <td>2020-08-14</td>\n",
       "      <td>TV-MA</td>\n",
       "      <td>4 Seasons</td>\n",
       "      <td>International TV Shows, TV Dramas, TV Sci-Fi &amp;...</td>\n",
       "      <td>In a future where the elite inhabit an island ...</td>\n",
       "      <td>4</td>\n",
       "      <td>Seasons</td>\n",
       "    </tr>\n",
       "  </tbody>\n",
       "</table>\n",
       "</div>"
      ],
      "text/plain": [
       "  ShowID Category Title Director  \\\n",
       "0     s1  TV Show    3%      NaN   \n",
       "\n",
       "                                                Cast Country Release_Date  \\\n",
       "0  João Miguel, Bianca Comparato, Michel Gomes, R...  Brazil   2020-08-14   \n",
       "\n",
       "  Rating   Duration                                               Type  \\\n",
       "0  TV-MA  4 Seasons  International TV Shows, TV Dramas, TV Sci-Fi &...   \n",
       "\n",
       "                                         Description  Duration_N Duration_Unit  \n",
       "0  In a future where the elite inhabit an island ...           4       Seasons  "
      ]
     },
     "execution_count": 53,
     "metadata": {},
     "output_type": "execute_result"
    }
   ],
   "source": [
    "df.head(1)"
   ]
  },
  {
   "cell_type": "code",
   "execution_count": 54,
   "id": "4f349519-d920-4760-bcc7-50fe18593812",
   "metadata": {},
   "outputs": [
    {
     "data": {
      "text/html": [
       "<div>\n",
       "<style scoped>\n",
       "    .dataframe tbody tr th:only-of-type {\n",
       "        vertical-align: middle;\n",
       "    }\n",
       "\n",
       "    .dataframe tbody tr th {\n",
       "        vertical-align: top;\n",
       "    }\n",
       "\n",
       "    .dataframe thead th {\n",
       "        text-align: right;\n",
       "    }\n",
       "</style>\n",
       "<table border=\"1\" class=\"dataframe\">\n",
       "  <thead>\n",
       "    <tr style=\"text-align: right;\">\n",
       "      <th></th>\n",
       "      <th>ShowID</th>\n",
       "      <th>Category</th>\n",
       "      <th>Title</th>\n",
       "      <th>Director</th>\n",
       "      <th>Cast</th>\n",
       "      <th>Country</th>\n",
       "      <th>Release_Date</th>\n",
       "      <th>Rating</th>\n",
       "      <th>Duration</th>\n",
       "      <th>Type</th>\n",
       "      <th>Description</th>\n",
       "      <th>Duration_N</th>\n",
       "      <th>Duration_Unit</th>\n",
       "    </tr>\n",
       "  </thead>\n",
       "  <tbody>\n",
       "    <tr>\n",
       "      <th>4</th>\n",
       "      <td>s5</td>\n",
       "      <td>Movie</td>\n",
       "      <td>21</td>\n",
       "      <td>Robert Luketic</td>\n",
       "      <td>Jim Sturgess, Kevin Spacey, Kate Bosworth, Aar...</td>\n",
       "      <td>United States</td>\n",
       "      <td>2020-01-01</td>\n",
       "      <td>PG-13</td>\n",
       "      <td>123 min</td>\n",
       "      <td>Dramas</td>\n",
       "      <td>A brilliant group of students become card-coun...</td>\n",
       "      <td>123</td>\n",
       "      <td>min</td>\n",
       "    </tr>\n",
       "    <tr>\n",
       "      <th>7</th>\n",
       "      <td>s8</td>\n",
       "      <td>Movie</td>\n",
       "      <td>187</td>\n",
       "      <td>Kevin Reynolds</td>\n",
       "      <td>Samuel L. Jackson, John Heard, Kelly Rowan, Cl...</td>\n",
       "      <td>United States</td>\n",
       "      <td>2019-11-01</td>\n",
       "      <td>R</td>\n",
       "      <td>119 min</td>\n",
       "      <td>Dramas</td>\n",
       "      <td>After one of his high school students attacks ...</td>\n",
       "      <td>119</td>\n",
       "      <td>min</td>\n",
       "    </tr>\n",
       "    <tr>\n",
       "      <th>111</th>\n",
       "      <td>s112</td>\n",
       "      <td>TV Show</td>\n",
       "      <td>44 Cats</td>\n",
       "      <td>NaN</td>\n",
       "      <td>Sarah Natochenny, Suzy Myers, Simona Berman, E...</td>\n",
       "      <td>Italy</td>\n",
       "      <td>2020-10-01</td>\n",
       "      <td>TV-Y7</td>\n",
       "      <td>2 Seasons</td>\n",
       "      <td>Kids' TV</td>\n",
       "      <td>Paw-esome tales abound when singing furry frie...</td>\n",
       "      <td>2</td>\n",
       "      <td>Seasons</td>\n",
       "    </tr>\n",
       "    <tr>\n",
       "      <th>170</th>\n",
       "      <td>s171</td>\n",
       "      <td>Movie</td>\n",
       "      <td>A Family Man</td>\n",
       "      <td>Mark Williams</td>\n",
       "      <td>Gerard Butler, Gretchen Mol, Alison Brie, Will...</td>\n",
       "      <td>Canada, United States</td>\n",
       "      <td>2019-12-15</td>\n",
       "      <td>R</td>\n",
       "      <td>110 min</td>\n",
       "      <td>Dramas</td>\n",
       "      <td>A ruthless corporate headhunter battles his ri...</td>\n",
       "      <td>110</td>\n",
       "      <td>min</td>\n",
       "    </tr>\n",
       "    <tr>\n",
       "      <th>232</th>\n",
       "      <td>s233</td>\n",
       "      <td>Movie</td>\n",
       "      <td>A Stoning in Fulham County</td>\n",
       "      <td>Larry Elikann</td>\n",
       "      <td>Ken Olin, Jill Eikenberry, Maureen Mueller, Gr...</td>\n",
       "      <td>United States</td>\n",
       "      <td>2011-10-01</td>\n",
       "      <td>TV-14</td>\n",
       "      <td>95 min</td>\n",
       "      <td>Dramas</td>\n",
       "      <td>After reckless teens kill an Amish child, a pr...</td>\n",
       "      <td>95</td>\n",
       "      <td>min</td>\n",
       "    </tr>\n",
       "    <tr>\n",
       "      <th>...</th>\n",
       "      <td>...</td>\n",
       "      <td>...</td>\n",
       "      <td>...</td>\n",
       "      <td>...</td>\n",
       "      <td>...</td>\n",
       "      <td>...</td>\n",
       "      <td>...</td>\n",
       "      <td>...</td>\n",
       "      <td>...</td>\n",
       "      <td>...</td>\n",
       "      <td>...</td>\n",
       "      <td>...</td>\n",
       "      <td>...</td>\n",
       "    </tr>\n",
       "    <tr>\n",
       "      <th>7666</th>\n",
       "      <td>s7667</td>\n",
       "      <td>TV Show</td>\n",
       "      <td>World of Winx</td>\n",
       "      <td>Iginio Straffi</td>\n",
       "      <td>Haven Paschall, Alysha Deslorieux, Jessica Paq...</td>\n",
       "      <td>Italy, United States</td>\n",
       "      <td>2017-06-16</td>\n",
       "      <td>TV-Y7</td>\n",
       "      <td>2 Seasons</td>\n",
       "      <td>Kids' TV</td>\n",
       "      <td>The reality show \"WOW!\" engages the Winx in th...</td>\n",
       "      <td>2</td>\n",
       "      <td>Seasons</td>\n",
       "    </tr>\n",
       "    <tr>\n",
       "      <th>7715</th>\n",
       "      <td>s7716</td>\n",
       "      <td>TV Show</td>\n",
       "      <td>Yoko</td>\n",
       "      <td>NaN</td>\n",
       "      <td>Eileen Stevens, Alyson Leigh Rosenfeld, Sarah ...</td>\n",
       "      <td>NaN</td>\n",
       "      <td>2018-06-23</td>\n",
       "      <td>TV-Y</td>\n",
       "      <td>1 Season</td>\n",
       "      <td>Kids' TV</td>\n",
       "      <td>Friends Mai, Oto and Vik's games at the park b...</td>\n",
       "      <td>1</td>\n",
       "      <td>Season</td>\n",
       "    </tr>\n",
       "    <tr>\n",
       "      <th>7717</th>\n",
       "      <td>s7718</td>\n",
       "      <td>TV Show</td>\n",
       "      <td>YOM</td>\n",
       "      <td>NaN</td>\n",
       "      <td>Sairaj, Devyani Dagaonkar, Ketan Singh, Mayur ...</td>\n",
       "      <td>NaN</td>\n",
       "      <td>2018-06-07</td>\n",
       "      <td>TV-Y7</td>\n",
       "      <td>1 Season</td>\n",
       "      <td>Kids' TV</td>\n",
       "      <td>With the mind of a human being, and the body o...</td>\n",
       "      <td>1</td>\n",
       "      <td>Season</td>\n",
       "    </tr>\n",
       "    <tr>\n",
       "      <th>7756</th>\n",
       "      <td>s7757</td>\n",
       "      <td>TV Show</td>\n",
       "      <td>Z4</td>\n",
       "      <td>NaN</td>\n",
       "      <td>Apollo Costa, Gabriel Santana, Matheus Lustosa...</td>\n",
       "      <td>Brazil</td>\n",
       "      <td>2019-02-22</td>\n",
       "      <td>TV-PG</td>\n",
       "      <td>2 Seasons</td>\n",
       "      <td>Kids' TV</td>\n",
       "      <td>Fading music biz veteran Zé realizes he has ju...</td>\n",
       "      <td>2</td>\n",
       "      <td>Seasons</td>\n",
       "    </tr>\n",
       "    <tr>\n",
       "      <th>7759</th>\n",
       "      <td>s7760</td>\n",
       "      <td>TV Show</td>\n",
       "      <td>Zak Storm</td>\n",
       "      <td>NaN</td>\n",
       "      <td>Michael Johnston, Jessica Gee-George, Christin...</td>\n",
       "      <td>United States, France, South Korea, Indonesia</td>\n",
       "      <td>2018-09-13</td>\n",
       "      <td>TV-Y7</td>\n",
       "      <td>3 Seasons</td>\n",
       "      <td>Kids' TV</td>\n",
       "      <td>Teen surfer Zak Storm is mysteriously transpor...</td>\n",
       "      <td>3</td>\n",
       "      <td>Seasons</td>\n",
       "    </tr>\n",
       "  </tbody>\n",
       "</table>\n",
       "<p>322 rows × 13 columns</p>\n",
       "</div>"
      ],
      "text/plain": [
       "     ShowID Category                       Title        Director  \\\n",
       "4        s5    Movie                          21  Robert Luketic   \n",
       "7        s8    Movie                         187  Kevin Reynolds   \n",
       "111    s112  TV Show                     44 Cats             NaN   \n",
       "170    s171    Movie                A Family Man   Mark Williams   \n",
       "232    s233    Movie  A Stoning in Fulham County   Larry Elikann   \n",
       "...     ...      ...                         ...             ...   \n",
       "7666  s7667  TV Show               World of Winx  Iginio Straffi   \n",
       "7715  s7716  TV Show                        Yoko             NaN   \n",
       "7717  s7718  TV Show                         YOM             NaN   \n",
       "7756  s7757  TV Show                          Z4             NaN   \n",
       "7759  s7760  TV Show                   Zak Storm             NaN   \n",
       "\n",
       "                                                   Cast  \\\n",
       "4     Jim Sturgess, Kevin Spacey, Kate Bosworth, Aar...   \n",
       "7     Samuel L. Jackson, John Heard, Kelly Rowan, Cl...   \n",
       "111   Sarah Natochenny, Suzy Myers, Simona Berman, E...   \n",
       "170   Gerard Butler, Gretchen Mol, Alison Brie, Will...   \n",
       "232   Ken Olin, Jill Eikenberry, Maureen Mueller, Gr...   \n",
       "...                                                 ...   \n",
       "7666  Haven Paschall, Alysha Deslorieux, Jessica Paq...   \n",
       "7715  Eileen Stevens, Alyson Leigh Rosenfeld, Sarah ...   \n",
       "7717  Sairaj, Devyani Dagaonkar, Ketan Singh, Mayur ...   \n",
       "7756  Apollo Costa, Gabriel Santana, Matheus Lustosa...   \n",
       "7759  Michael Johnston, Jessica Gee-George, Christin...   \n",
       "\n",
       "                                            Country Release_Date Rating  \\\n",
       "4                                     United States   2020-01-01  PG-13   \n",
       "7                                     United States   2019-11-01      R   \n",
       "111                                           Italy   2020-10-01  TV-Y7   \n",
       "170                           Canada, United States   2019-12-15      R   \n",
       "232                                   United States   2011-10-01  TV-14   \n",
       "...                                             ...          ...    ...   \n",
       "7666                           Italy, United States   2017-06-16  TV-Y7   \n",
       "7715                                            NaN   2018-06-23   TV-Y   \n",
       "7717                                            NaN   2018-06-07  TV-Y7   \n",
       "7756                                         Brazil   2019-02-22  TV-PG   \n",
       "7759  United States, France, South Korea, Indonesia   2018-09-13  TV-Y7   \n",
       "\n",
       "       Duration      Type                                        Description  \\\n",
       "4       123 min    Dramas  A brilliant group of students become card-coun...   \n",
       "7       119 min    Dramas  After one of his high school students attacks ...   \n",
       "111   2 Seasons  Kids' TV  Paw-esome tales abound when singing furry frie...   \n",
       "170     110 min    Dramas  A ruthless corporate headhunter battles his ri...   \n",
       "232      95 min    Dramas  After reckless teens kill an Amish child, a pr...   \n",
       "...         ...       ...                                                ...   \n",
       "7666  2 Seasons  Kids' TV  The reality show \"WOW!\" engages the Winx in th...   \n",
       "7715   1 Season  Kids' TV  Friends Mai, Oto and Vik's games at the park b...   \n",
       "7717   1 Season  Kids' TV  With the mind of a human being, and the body o...   \n",
       "7756  2 Seasons  Kids' TV  Fading music biz veteran Zé realizes he has ju...   \n",
       "7759  3 Seasons  Kids' TV  Teen surfer Zak Storm is mysteriously transpor...   \n",
       "\n",
       "      Duration_N Duration_Unit  \n",
       "4            123           min  \n",
       "7            119           min  \n",
       "111            2       Seasons  \n",
       "170          110           min  \n",
       "232           95           min  \n",
       "...          ...           ...  \n",
       "7666           2       Seasons  \n",
       "7715           1        Season  \n",
       "7717           1        Season  \n",
       "7756           2       Seasons  \n",
       "7759           3       Seasons  \n",
       "\n",
       "[322 rows x 13 columns]"
      ]
     },
     "execution_count": 54,
     "metadata": {},
     "output_type": "execute_result"
    }
   ],
   "source": [
    "df[((df.Category=='Movie')&(df.Type=='Dramas'))|((df.Category=='TV Show')&(df.Type==\"Kids' TV\"))]"
   ]
  },
  {
   "cell_type": "markdown",
   "id": "c1adda3b-ce22-41fd-9b95-7fe766ba85b3",
   "metadata": {},
   "source": [
    "## Author"
   ]
  },
  {
   "cell_type": "markdown",
   "id": "f9f3b1a7-7460-4cfb-ab71-71a40628ae91",
   "metadata": {},
   "source": [
    "[Alok Ranjan](https://www.linkedin.com/in/alokranjan-in/)"
   ]
  }
 ],
 "metadata": {
  "kernelspec": {
   "display_name": "Python 3 (ipykernel)",
   "language": "python",
   "name": "python3"
  },
  "language_info": {
   "codemirror_mode": {
    "name": "ipython",
    "version": 3
   },
   "file_extension": ".py",
   "mimetype": "text/x-python",
   "name": "python",
   "nbconvert_exporter": "python",
   "pygments_lexer": "ipython3",
   "version": "3.11.5"
  }
 },
 "nbformat": 4,
 "nbformat_minor": 5
}
